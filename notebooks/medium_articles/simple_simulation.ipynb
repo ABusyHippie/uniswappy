{
 "cells": [
  {
   "cell_type": "markdown",
   "id": "dc0ae696-ac49-4f9a-b110-ce6ff8555272",
   "metadata": {},
   "source": [
    "## Simple LP Simulation\n",
    "* [Medium Article: How to Simulate a Liquidity Pool for Decentralized Finance](https://medium.com/@icmoore/simulating-a-liquidity-pool-for-decentralized-finance-6f357ec8564b)"
   ]
  },
  {
   "cell_type": "code",
   "execution_count": null,
   "id": "d59f8c55-95a3-4b20-bbd7-cd822402c34b",
   "metadata": {},
   "outputs": [],
   "source": [
    "import os\n",
    "import numpy as np\n",
    "import pandas as pd\n",
    "import matplotlib.pyplot as plt\n",
    "import pymc3\n",
    "import datetime"
   ]
  },
  {
   "cell_type": "code",
   "execution_count": null,
   "id": "3c2dac98-40be-49dd-8dca-5a9b2d88f9cb",
   "metadata": {},
   "outputs": [],
   "source": [
    "from uniswappy.math.model import BrownianModel\n",
    "from uniswappy.erc import ERC20\n",
    "from uniswappy.cpt.exchg import Exchange\n",
    "from uniswappy.cpt.factory import Factory\n",
    "from uniswappy.process.deposit import SwapDeposit\n",
    "from uniswappy.process.swap import Swap\n",
    "from uniswappy.simulate import SolveDeltas\n",
    "from uniswappy.simulate import SimpleLPSimulation"
   ]
  },
  {
   "cell_type": "code",
   "execution_count": null,
   "id": "c5d45945-0086-4a5c-a929-14ce8ca07492",
   "metadata": {},
   "outputs": [],
   "source": [
    "n_steps = 5000\n",
    "start_price = 0.1\n",
    "mu = 0.3; sigma = 0.5\n",
    "n_paths = 25\n",
    "\n",
    "b = BrownianModel(start_price)\n",
    "p_arr = b.gen_gbms(mu, sigma, n_steps, n_paths)\n",
    "exp_p_arr = np.median(p_arr, axis = 1)"
   ]
  },
  {
   "cell_type": "code",
   "execution_count": null,
   "id": "63785c0e-984e-4af4-8ffa-fe9cd1ad5233",
   "metadata": {},
   "outputs": [],
   "source": [
    "t_deltas = np.linspace(0, 365, num=n_steps+1)\n",
    "start = datetime.datetime(2023, 1, 1, 0, 0, 0)\n",
    "date_times = np.array([start + datetime.timedelta(days=t_delta) for t_delta in t_deltas])  \n",
    "\n",
    "fig = plt.figure(figsize=(15, 7))\n",
    "USD_ax = fig.gca()\n",
    "\n",
    "pymc3.gp.util.plot_gp_dist( \n",
    "    ax=USD_ax,\n",
    "    x=date_times,\n",
    "    samples=p_arr.transpose(),\n",
    "    palette='cool',\n",
    "    plot_samples=False\n",
    ")\n",
    "\n",
    "USD_ax.plot(date_times, exp_p_arr, color = 'white',linestyle = 'dashed', label='SYSUSD') \n",
    "USD_ax.set_title(\"GBM Simulated SYS prices (USD) \", fontsize=20)\n",
    "USD_ax.set_ylabel(\"USD ($)\", fontsize=16)\n",
    "USD_ax.legend(fontsize=16, facecolor=\"lightgray\", loc='upper left')"
   ]
  },
  {
   "cell_type": "code",
   "execution_count": null,
   "id": "dd37c131-26df-4f89-af4b-11cd055db37d",
   "metadata": {},
   "outputs": [],
   "source": [
    "sys_arr = np.zeros((n_steps, n_paths), np.float64)\n",
    "x_amt_arr = np.zeros((n_steps, n_paths), np.float64)\n",
    "y_amt_arr = np.zeros((n_steps, n_paths), np.float64)\n",
    "\n",
    "for k in range(n_paths):\n",
    "    print(f'Trial run {k}')\n",
    "    p_trial_arr = p_arr[:,k]\n",
    "    \n",
    "    tkn = ERC20('TKN', \"0x09\")\n",
    "    dai = ERC20('DAI', \"0x111\")\n",
    "    \n",
    "    lp_sim = SimpleLPSimulation()\n",
    "    lp_sim.init_amts(10000, p_trial_arr[0])\n",
    "    lp_sim.create_lp(tkn, dai)\n",
    "    lp_sim.run(p_trial_arr)\n",
    "    \n",
    "    sys_arr[:,k] = lp_sim.get_tkn_price_sim()\n",
    "    x_amt_arr[:,k] = lp_sim.get_x_amt_sim()\n",
    "    y_amt_arr[:,k] = lp_sim.get_y_amt_sim()"
   ]
  },
  {
   "cell_type": "code",
   "execution_count": null,
   "id": "d9f0f097-e0fb-46bd-bf45-e581abe1de5c",
   "metadata": {},
   "outputs": [],
   "source": [
    "fig, (P_ax, SYS_ax, DAI_ax) = plt.subplots(nrows=3, sharex=False, sharey=False, figsize=(15, 12))\n",
    "\n",
    "pymc3.gp.util.plot_gp_dist( \n",
    "    ax=P_ax,\n",
    "    x=date_times[1:],\n",
    "    samples=sys_arr.transpose(),\n",
    "    palette='cool',\n",
    "    plot_samples=False\n",
    ")\n",
    "P_ax.plot(date_times[1:], np.mean(sys_arr, axis = 1), color = 'w', linewidth=3, label='Price')\n",
    "P_ax.set_title(\"Price (SYS)\", fontsize=20)\n",
    "P_ax.legend(fontsize=16, facecolor=\"lightgray\", loc='upper left')\n",
    "P_ax.set_ylabel(\"Price (SYS/DAI)\", fontsize=16)\n",
    "\n",
    "pymc3.gp.util.plot_gp_dist( \n",
    "    ax=SYS_ax,\n",
    "    x=date_times[1:],\n",
    "    samples=x_amt_arr.transpose(),\n",
    "    palette='cool',\n",
    "    plot_samples=False\n",
    ")\n",
    "SYS_ax.plot(date_times[1:], np.mean(x_amt_arr, axis = 1), color = 'w', linewidth=3, label='SYS')\n",
    "SYS_ax.set_title(\"Reserve Amount (SYS)\", fontsize=20)\n",
    "SYS_ax.legend(fontsize=16, facecolor=\"lightgray\", loc='upper left')\n",
    "SYS_ax.set_ylabel(\"SYS\", fontsize=16)\n",
    "\n",
    "pymc3.gp.util.plot_gp_dist( \n",
    "    ax=DAI_ax,\n",
    "    x=date_times[1:],\n",
    "    samples=y_amt_arr.transpose(),\n",
    "    palette='cool',\n",
    "    plot_samples=False\n",
    ")\n",
    "DAI_ax.plot(date_times[1:], np.mean(y_amt_arr, axis = 1), color = 'w', linewidth=3, label='DAI')\n",
    "DAI_ax.set_title(\"Reserve Amount (DAI)\", fontsize=20)\n",
    "DAI_ax.legend(fontsize=16, facecolor=\"lightgray\", loc='upper left')\n",
    "DAI_ax.set_ylabel(\"DAI\", fontsize=16)"
   ]
  }
 ],
 "metadata": {
  "kernelspec": {
   "display_name": "Python 3 (ipykernel)",
   "language": "python",
   "name": "python3"
  },
  "language_info": {
   "codemirror_mode": {
    "name": "ipython",
    "version": 3
   },
   "file_extension": ".py",
   "mimetype": "text/x-python",
   "name": "python",
   "nbconvert_exporter": "python",
   "pygments_lexer": "ipython3",
   "version": "3.9.7"
  }
 },
 "nbformat": 4,
 "nbformat_minor": 5
}
