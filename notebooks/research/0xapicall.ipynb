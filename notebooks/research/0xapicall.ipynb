{
 "cells": [
  {
   "cell_type": "markdown",
   "id": "fe945b99-c14b-4d91-8482-bd793890c388",
   "metadata": {},
   "source": [
    "### 0x API Call Structure"
   ]
  },
  {
   "cell_type": "code",
   "execution_count": null,
   "id": "2067ac76-ce46-403c-afa9-d0d4d8641adb",
   "metadata": {},
   "outputs": [],
   "source": [
    "# Import the requests library\n",
    "import requests\n",
    "\n",
    "# Replace with your actual API endpoint URL\n",
    "api_url = \"https://api.example.com/endpoint\"\n",
    "\n",
    "# Replace with your actual API token\n",
    "api_token = \"YOUR_API_TOKEN\"\n",
    "\n",
    "# Set the header with the authentication token\n",
    "headers = {\"Authorization\": f\"Bearer {api_token}\"}\n",
    "\n",
    "# Send a GET request to the API endpoint\n",
    "response = requests.get(api_url, headers=headers)\n",
    "\n",
    "# Check for successful response\n",
    "if response.status_code == 200:\n",
    "  # Print the response content\n",
    "  print(response.text)\n",
    "else:\n",
    "  # Handle error\n",
    "  print(f\"Error: API request failed with status code {response.status_code}\")\n"
   ]
  }
 ],
 "metadata": {
  "kernelspec": {
   "display_name": "Python 3 (ipykernel)",
   "language": "python",
   "name": "python3"
  },
  "language_info": {
   "codemirror_mode": {
    "name": "ipython",
    "version": 3
   },
   "file_extension": ".py",
   "mimetype": "text/x-python",
   "name": "python",
   "nbconvert_exporter": "python",
   "pygments_lexer": "ipython3",
   "version": "3.11.7"
  }
 },
 "nbformat": 4,
 "nbformat_minor": 5
}
