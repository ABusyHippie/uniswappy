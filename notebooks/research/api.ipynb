{
 "cells": [
  {
   "cell_type": "markdown",
   "id": "9ef66173-c9fd-40ba-ba71-59fade7c27e0",
   "metadata": {},
   "source": [
    "## References\n",
    "* https://0x.org/docs/0x-price-api/guides/get-started-price-api\n",
    "* https://0x.org/docs/0x-price-api/api-references/get-swap-v1-price#example\n",
    "* https://docs.google.com/document/d/13FVXCQIJ40-51SFkx3_qXLQ794nKYauEHdETxFVQ0I8/edit?pli=1"
   ]
  },
  {
   "cell_type": "code",
   "execution_count": 1,
   "id": "1fbb075e-ef41-4f4d-b582-1a836d7c1170",
   "metadata": {
    "tags": []
   },
   "outputs": [],
   "source": [
    "from uniswappy import *"
   ]
  },
  {
   "cell_type": "code",
   "execution_count": 2,
   "id": "4e09ff7b-9295-4b59-a228-7a69a243fb0a",
   "metadata": {
    "tags": []
   },
   "outputs": [],
   "source": [
    "#chain = Chain0x(chain_nm = Chain0x.ETHEREUM, buy_tkn_nm = Chain0x.WETH)\n",
    "#chain = Chain0x(chain_nm = Chain0x.POLYGON, buy_tkn_nm = Chain0x.WBTC , sell_tkn_nm = Chain0x.USDT)\n",
    "chain = Chain0x(chain_nm = Chain0x.OPTIMISM, buy_tkn_nm = Chain0x.LINK, sell_tkn_nm = Chain0x.DAI)\n",
    "#chain = Chain0x(chain_nm = Chain0x.AVALANCHE, buy_tkn_nm = Chain0x.UNI, sell_tkn_nm = Chain0x.DAI)"
   ]
  },
  {
   "cell_type": "code",
   "execution_count": 3,
   "id": "306fc25c-7a4f-4154-892a-8760f95a0b45",
   "metadata": {
    "tags": []
   },
   "outputs": [
    {
     "data": {
      "text/plain": [
       "'0.050157304745876065'"
      ]
     },
     "execution_count": 3,
     "metadata": {},
     "output_type": "execute_result"
    }
   ],
   "source": [
    "api = API0x(chain = chain.chain_nm)\n",
    "res = api.apply(chain.get_sell_token(), chain.get_buy_token(), chain.api_sell_amount)\n",
    "res['price']"
   ]
  },
  {
   "cell_type": "code",
   "execution_count": 4,
   "id": "91e1b5c0-73eb-4936-b1c6-5feeea68da12",
   "metadata": {
    "tags": []
   },
   "outputs": [
    {
     "data": {
      "text/plain": [
       "'0.050157304745876065'"
      ]
     },
     "execution_count": 4,
     "metadata": {},
     "output_type": "execute_result"
    }
   ],
   "source": [
    "import requests\n",
    "from requests.auth import HTTPBasicAuth\n",
    "\n",
    "sell_token = chain.get_sell_token()\n",
    "buy_token =  chain.get_buy_token()\n",
    "sell_amount = chain.api_sell_amount\n",
    "api_key = chain.api_key\n",
    "\n",
    "chain = chain.chain_nm\n",
    "\n",
    "url = f'https://{chain}/swap/v1/quote?sellToken={sell_token}&buyToken={buy_token}&sellAmount={sell_amount}'\n",
    "\n",
    "api_key = \"6cbf2275-5cee-4659-8d67-5491399a9c5e\"\n",
    "\n",
    "headers = {\n",
    "        'Content-type': 'application/json',\n",
    "        '0x-api-key': api_key\n",
    "    }\n",
    "\n",
    "search_response = requests.get(url, headers=headers)\n",
    "res = search_response.json()\n",
    "res['price']"
   ]
  }
 ],
 "metadata": {
  "kernelspec": {
   "display_name": "Python 3 (ipykernel)",
   "language": "python",
   "name": "python3"
  },
  "language_info": {
   "codemirror_mode": {
    "name": "ipython",
    "version": 3
   },
   "file_extension": ".py",
   "mimetype": "text/x-python",
   "name": "python",
   "nbconvert_exporter": "python",
   "pygments_lexer": "ipython3",
   "version": "3.11.5"
  }
 },
 "nbformat": 4,
 "nbformat_minor": 5
}
