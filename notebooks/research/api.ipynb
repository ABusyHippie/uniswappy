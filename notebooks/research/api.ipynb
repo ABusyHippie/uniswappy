{
 "cells": [
  {
   "cell_type": "markdown",
   "id": "9ef66173-c9fd-40ba-ba71-59fade7c27e0",
   "metadata": {},
   "source": [
    "## References\n",
    "* https://0x.org/docs/0x-price-api/guides/get-started-price-api\n",
    "* https://0x.org/docs/0x-price-api/api-references/get-swap-v1-price#example\n",
    "* https://docs.google.com/document/d/13FVXCQIJ40-51SFkx3_qXLQ794nKYauEHdETxFVQ0I8/edit?pli=1"
   ]
  },
  {
   "cell_type": "code",
   "execution_count": 5,
   "id": "306fc25c-7a4f-4154-892a-8760f95a0b45",
   "metadata": {
    "tags": []
   },
   "outputs": [
    {
     "data": {
      "text/plain": [
       "{'code': 100,\n",
       " 'reason': 'Validation Failed',\n",
       " 'validationErrors': [{'field': 'buyAmount',\n",
       "   'code': 1004,\n",
       "   'reason': 'INSUFFICIENT_ASSET_LIQUIDITY',\n",
       "   'description': 'We are not able to fulfill an order for this token pair at the requested amount due to a lack of liquidity'}]}"
      ]
     },
     "execution_count": 5,
     "metadata": {},
     "output_type": "execute_result"
    }
   ],
   "source": [
    "from uniswappy import *\n",
    "\n",
    "sell_token = '0xa0b86991c6218b36c1d19d4a2e9eb0ce3606eb48'\n",
    "buy_token = '0xc02aaa39b223fe8d0a0e5c4f27ead9083c756cc2'\n",
    "sell_amount = '10000000'\n",
    "\n",
    "api = API0x(chain = Chain0x.ETHEREUM)\n",
    "res = api.apply(sell_token, buy_token, sell_amount)\n",
    "res['price']"
   ]
  },
  {
   "cell_type": "code",
   "execution_count": 2,
   "id": "91e1b5c0-73eb-4936-b1c6-5feeea68da12",
   "metadata": {
    "tags": []
   },
   "outputs": [
    {
     "data": {
      "text/plain": [
       "'0.000328924041484857'"
      ]
     },
     "execution_count": 2,
     "metadata": {},
     "output_type": "execute_result"
    }
   ],
   "source": [
    "import requests\n",
    "from requests.auth import HTTPBasicAuth\n",
    "\n",
    "sell_token = '0xa0b86991c6218b36c1d19d4a2e9eb0ce3606eb48'\n",
    "buy_token = '0xc02aaa39b223fe8d0a0e5c4f27ead9083c756cc2'\n",
    "sell_amount = '10000000'\n",
    "api_key = \"6cbf2275-5cee-4659-8d67-5491399a9c5e\"\n",
    "\n",
    "chain = 'api.0x.org'\n",
    "\n",
    "url = f'https://{chain}/swap/v1/quote?sellToken={sell_token}&buyToken={buy_token}&sellAmount={sell_amount}'\n",
    "\n",
    "api_key = \"6cbf2275-5cee-4659-8d67-5491399a9c5e\"\n",
    "\n",
    "headers = {\n",
    "        'Content-type': 'application/json',\n",
    "        '0x-api-key': api_key\n",
    "    }\n",
    "\n",
    "search_response = requests.get(url, headers=headers)\n",
    "res = search_response.json()\n",
    "res['price']"
   ]
  }
 ],
 "metadata": {
  "kernelspec": {
   "display_name": "Python 3 (ipykernel)",
   "language": "python",
   "name": "python3"
  },
  "language_info": {
   "codemirror_mode": {
    "name": "ipython",
    "version": 3
   },
   "file_extension": ".py",
   "mimetype": "text/x-python",
   "name": "python",
   "nbconvert_exporter": "python",
   "pygments_lexer": "ipython3",
   "version": "3.11.5"
  }
 },
 "nbformat": 4,
 "nbformat_minor": 5
}
