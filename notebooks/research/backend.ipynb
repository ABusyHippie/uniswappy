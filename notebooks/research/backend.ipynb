{
 "cells": [
  {
   "cell_type": "markdown",
   "id": "f28ccd9b-30e5-4dbd-a3ae-87e9a69735e2",
   "metadata": {},
   "source": [
    "# Slippage Simulator"
   ]
  },
  {
   "cell_type": "code",
   "execution_count": 1,
   "id": "31712e2b-fc84-4880-9ebf-0ac96e132074",
   "metadata": {
    "tags": []
   },
   "outputs": [],
   "source": [
    "from uniswappy import *\n",
    "import time\n",
    "import datetime\n",
    "import random\n",
    "import statsmodels.api as sm\n",
    "import matplotlib.pyplot as plt"
   ]
  },
  {
   "cell_type": "markdown",
   "id": "d8874f2b-2e42-4e1a-b644-006124aa1587",
   "metadata": {},
   "source": [
    "### Setup 0x API"
   ]
  },
  {
   "cell_type": "code",
   "execution_count": 2,
   "id": "624d8a4f-cb49-44e5-8258-174518ee9bfe",
   "metadata": {},
   "outputs": [],
   "source": [
    "buy_token = '0xc02aaa39b223fe8d0a0e5c4f27ead9083c756cc2'\n",
    "sell_token = '0xa0b86991c6218b36c1d19d4a2e9eb0ce3606eb48'\n",
    "sell_amount = '10000000'\n",
    "\n",
    "api = API0x(chain = Chain0x.ETHEREUM)\n",
    "res = api.apply(sell_token, buy_token, sell_amount)"
   ]
  },
  {
   "cell_type": "markdown",
   "id": "65e39855-04ab-4643-a574-d13508c86ac6",
   "metadata": {},
   "source": [
    "### Setup Uniswap Pool"
   ]
  },
  {
   "cell_type": "code",
   "execution_count": 3,
   "id": "c0d5892e-96a6-4159-a664-6b2bd77b2306",
   "metadata": {
    "tags": []
   },
   "outputs": [
    {
     "name": "stdout",
     "output_type": "stream",
     "text": [
      "Exchange WETH-USDC (LP)\n",
      "Reserves: WETH = 1000, USDC = 3127941.9517103913\n",
      "Liquidity: 55928.00686338099 \n",
      "\n"
     ]
    }
   ],
   "source": [
    "prices = []\n",
    "\n",
    "USER_NM = 'user0'\n",
    "eth_amount = 1000\n",
    "tkn_amount = eth_amount/float(res['price'])\n",
    "\n",
    "eth = ERC20(\"WETH\", None)\n",
    "tkn = ERC20(\"USDC\", None)\n",
    "exchg_data = UniswapExchangeData(tkn0 = eth, tkn1 = tkn, symbol=\"LP\", address=None)\n",
    "\n",
    "factory = UniswapFactory(\"ETH pool factory\", None)\n",
    "lp = factory.deploy(exchg_data)\n",
    "lp.add_liquidity(USER_NM, eth_amount, tkn_amount, eth_amount, tkn_amount)\n",
    "lp.summary()"
   ]
  },
  {
   "cell_type": "markdown",
   "id": "4df13ff0-4541-4643-aa96-0ab759c9f27a",
   "metadata": {},
   "source": [
    "### Perform Mock Swap / Arbitrage"
   ]
  },
  {
   "cell_type": "code",
   "execution_count": 4,
   "id": "b12a8421-2395-4b69-824c-d1ead71e93aa",
   "metadata": {
    "tags": []
   },
   "outputs": [
    {
     "name": "stdout",
     "output_type": "stream",
     "text": [
      "time-trade 2024-02-25 18:19:24.371585\n",
      "time-arbitrage 2024-02-25 18:19:25.844237\n",
      "time-trade 2024-02-25 18:19:28.511219\n",
      "time-arbitrage 2024-02-25 18:19:29.522452\n",
      "time-trade 2024-02-25 18:19:32.678175\n",
      "time-arbitrage 2024-02-25 18:19:33.276581\n",
      "time-trade 2024-02-25 18:19:33.857378\n",
      "time-arbitrage 2024-02-25 18:19:35.509768\n",
      "time-trade 2024-02-25 18:19:39.818372\n"
     ]
    },
    {
     "ename": "KeyError",
     "evalue": "'price'",
     "output_type": "error",
     "traceback": [
      "\u001b[0;31m---------------------------------------------------------------------------\u001b[0m",
      "\u001b[0;31mKeyError\u001b[0m                                  Traceback (most recent call last)",
      "Cell \u001b[0;32mIn[4], line 51\u001b[0m\n\u001b[1;32m     49\u001b[0m time\u001b[38;5;241m.\u001b[39msleep(pause)     \n\u001b[1;32m     50\u001b[0m res \u001b[38;5;241m=\u001b[39m api\u001b[38;5;241m.\u001b[39mapply(sell_token, buy_token, sell_amount)\n\u001b[0;32m---> 51\u001b[0m p \u001b[38;5;241m=\u001b[39m \u001b[38;5;241m1\u001b[39m\u001b[38;5;241m/\u001b[39m\u001b[38;5;28mfloat\u001b[39m(res[\u001b[38;5;124m'\u001b[39m\u001b[38;5;124mprice\u001b[39m\u001b[38;5;124m'\u001b[39m])\n\u001b[1;32m     53\u001b[0m market_tstamp\u001b[38;5;241m.\u001b[39mappend(datetime\u001b[38;5;241m.\u001b[39mdatetime\u001b[38;5;241m.\u001b[39mnow())\n\u001b[1;32m     54\u001b[0m market_price\u001b[38;5;241m.\u001b[39mappend(p)\n",
      "\u001b[0;31mKeyError\u001b[0m: 'price'"
     ]
    }
   ],
   "source": [
    "N = 20\n",
    "tkn_price_arr = []\n",
    "tstamp = []\n",
    "MAX_SLEEP = 3\n",
    "\n",
    "lp_tot_arr = []\n",
    "x_amt_arr = []\n",
    "y_amt_arr = []\n",
    "lp_price_arr = []\n",
    "\n",
    "swap_tstamp = []\n",
    "swap_amts = []\n",
    "\n",
    "market_tstamp = []\n",
    "market_price = []\n",
    "res = api.apply(sell_token, buy_token, sell_amount)\n",
    "p = 1/float(res['price'])\n",
    "correction = CorrectReserves(lp, x0 = p)\n",
    "\n",
    "tdModel = TokenDeltaModel(30)\n",
    "\n",
    "for k in range(N):\n",
    "    \n",
    "    remaining_sleep = MAX_SLEEP\n",
    "    \n",
    "    # RANDOM SWAP\n",
    "    pause = random.uniform(0, remaining_sleep)\n",
    "    time.sleep(pause) \n",
    "    rnd_amt = tdModel.delta()\n",
    "    select_tkn = EventSelectionModel().bi_select(0.5)\n",
    "    \n",
    "    if(select_tkn == 0):\n",
    "        out = Swap().apply(lp, eth, USER_NM, rnd_amt)  \n",
    "    else:\n",
    "        out = Swap().apply(lp, tkn, USER_NM, 0.5*p*rnd_amt) \n",
    "        \n",
    "    swap_tstamp.append(datetime.datetime.now())\n",
    "    swap_amts.append(rnd_amt)\n",
    "    \n",
    "    lp_price_arr.append(lp.get_price(correction.get_x_tkn()))  \n",
    "    x_amt_arr.append(lp.get_reserve(correction.get_y_tkn()))  \n",
    "    y_amt_arr.append(lp.get_reserve(correction.get_x_tkn()))                  \n",
    "    tstamp.append(datetime.datetime.now())  \n",
    "    remaining_sleep -= pause\n",
    "    print(f\"time-trade {datetime.datetime.now()}\")    \n",
    "    \n",
    "    # MARKET ARBITRAGE\n",
    "    pause = random.uniform(0, remaining_sleep)\n",
    "    time.sleep(pause)     \n",
    "    res = api.apply(sell_token, buy_token, sell_amount)\n",
    "    p = 1/float(res['price'])\n",
    "    \n",
    "    market_tstamp.append(datetime.datetime.now())\n",
    "    market_price.append(p)\n",
    "    correction.apply(p)\n",
    "                \n",
    "    lp_price_arr.append(lp.get_price(correction.get_x_tkn()))  \n",
    "    x_amt_arr.append(lp.get_reserve(correction.get_y_tkn()))  \n",
    "    y_amt_arr.append(lp.get_reserve(correction.get_x_tkn()))                  \n",
    "    tstamp.append(datetime.datetime.now())\n",
    "    remaining_sleep -= pause\n",
    "    print(f\"time-arbitrage {datetime.datetime.now()}\")           \n",
    "                \n",
    "    time.sleep(remaining_sleep) \n"
   ]
  },
  {
   "cell_type": "markdown",
   "id": "f3a30387-00f8-42d6-a830-5f0428481118",
   "metadata": {},
   "source": [
    "### Plot Uniswap Liquidity Pool States"
   ]
  },
  {
   "cell_type": "code",
   "execution_count": null,
   "id": "c6b94b4a-99fe-4029-8388-3916f34a176a",
   "metadata": {
    "tags": []
   },
   "outputs": [],
   "source": [
    "fig, (p_ax, tkn1_ax, tkn2_ax, s_ax) = plt.subplots(nrows=4, sharex=False, sharey=False, figsize=(15, 15))\n",
    "p_ax.plot(tstamp, lp_price_arr, label='pool')\n",
    "p_ax.plot(market_tstamp, market_price, 'ro--', label='market')\n",
    "p_ax.set_ylabel(f'{eth.token_name} / {tkn.token_name}', fontsize=16)\n",
    "p_ax.legend(fontsize=16, facecolor=\"lightgray\", loc='lower right')\n",
    "\n",
    "tkn1_ax.plot(tstamp, x_amt_arr)\n",
    "tkn1_ax.set_ylabel(f'{tkn.token_name} Reserves', fontsize=16)\n",
    "\n",
    "tkn2_ax.plot(tstamp, y_amt_arr)\n",
    "tkn2_ax.set_ylabel(f'{eth.token_name} Reserves', fontsize=16)\n",
    "\n",
    "s_ax.plot(swap_tstamp, swap_amts)\n",
    "s_ax.set_ylabel(f'Swap Amounts ({eth.token_name})', fontsize=16)"
   ]
  },
  {
   "cell_type": "markdown",
   "id": "8b36133a-aa26-48ad-a74c-035172106936",
   "metadata": {},
   "source": [
    "### Plot Swap Model"
   ]
  },
  {
   "cell_type": "code",
   "execution_count": null,
   "id": "4ffc2b5b-2eef-4b65-90ef-1506ea6ad1b0",
   "metadata": {
    "tags": []
   },
   "outputs": [],
   "source": [
    "r_vals = [tdModel.delta() for k in range(1000)] \n",
    "dens = sm.nonparametric.KDEUnivariate(r_vals)\n",
    "dens.fit()\n",
    "\n",
    "x = np.linspace(0,80,100)\n",
    "y = dens.evaluate(x)\n",
    "\n",
    "#rsamp = tdModel.delta()\n",
    "rind = random.randint(0, len(dens.icdf))\n",
    "rsamp = dens.icdf[rind]\n",
    "\n",
    "residuals = np.abs(x - rsamp)\n",
    "ind = np.argmin(residuals, axis=0) \n",
    "\n",
    "plt.hist(r_vals, density=True, bins=40, color='skyblue')\n",
    "plt.plot(x, y, 'r')\n",
    "plt.plot([rsamp,rsamp], [0,y[ind]], 'r', linewidth=2)\n",
    "plt.plot(rsamp,y[ind],'ro') \n",
    "plt.title(f'Swap Model') \n",
    "plt.xlabel(f'{eth.token_name} Swap Amount') "
   ]
  }
 ],
 "metadata": {
  "kernelspec": {
   "display_name": "Python 3 (ipykernel)",
   "language": "python",
   "name": "python3"
  },
  "language_info": {
   "codemirror_mode": {
    "name": "ipython",
    "version": 3
   },
   "file_extension": ".py",
   "mimetype": "text/x-python",
   "name": "python",
   "nbconvert_exporter": "python",
   "pygments_lexer": "ipython3",
   "version": "3.11.5"
  }
 },
 "nbformat": 4,
 "nbformat_minor": 5
}
