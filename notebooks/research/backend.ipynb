{
 "cells": [
  {
   "cell_type": "code",
   "execution_count": 1,
   "id": "31712e2b-fc84-4880-9ebf-0ac96e132074",
   "metadata": {
    "tags": []
   },
   "outputs": [],
   "source": [
    "from uniswappy import *\n",
    "import time\n",
    "\n",
    "sell_token = '0xa0b86991c6218b36c1d19d4a2e9eb0ce3606eb48'\n",
    "buy_token = '0xc02aaa39b223fe8d0a0e5c4f27ead9083c756cc2'\n",
    "sell_amount = '10000000'\n",
    "\n",
    "#api = API0x(chain = Chain0x.ETHEREUM)\n",
    "api = API0x()\n",
    "res = api.apply(sell_token, buy_token, sell_amount)"
   ]
  },
  {
   "cell_type": "code",
   "execution_count": 2,
   "id": "d97d2cee-b200-433a-9acd-7b74874460c9",
   "metadata": {
    "tags": []
   },
   "outputs": [
    {
     "name": "stdout",
     "output_type": "stream",
     "text": [
      "Exchange ETH-USDC (LP)\n",
      "Reserves: ETH = 100, USDC = 305312.93908005307\n",
      "Liquidity: 5525.512999532741 \n",
      "\n"
     ]
    }
   ],
   "source": [
    "prices = []\n",
    "\n",
    "USER_NM = 'user0'\n",
    "eth_amount = 100\n",
    "tkn_amount = eth_amount/float(res['price'])\n",
    "\n",
    "usdc = ERC20(\"USDC\", \"0x111\")\n",
    "eth = ERC20(\"ETH\", \"0x09\")\n",
    "exchg_data = UniswapExchangeData(tkn0 = eth, tkn1 = usdc, symbol=\"LP\", address=\"0x011\")\n",
    "\n",
    "factory = UniswapFactory(\"ETH pool factory\", \"0x2\")\n",
    "lp = factory.deploy(exchg_data)\n",
    "lp.add_liquidity(\"user0\", eth_amount, tkn_amount, eth_amount, tkn_amount)\n",
    "lp.summary()"
   ]
  },
  {
   "cell_type": "code",
   "execution_count": 3,
   "id": "d0d8bf2d-1fed-42cb-b3bf-6bfc56f58417",
   "metadata": {
    "tags": []
   },
   "outputs": [
    {
     "name": "stdout",
     "output_type": "stream",
     "text": [
      "price: 3053.129390800531\n",
      "price: 3053.129390800531\n",
      "price: 3053.129390800531\n",
      "price: 3053.129390800531\n",
      "price: 3053.129390800531\n"
     ]
    }
   ],
   "source": [
    "N = 5\n",
    "tkn_price_arr = []\n",
    "\n",
    "for k in range(N):\n",
    "    res = api.apply(sell_token, buy_token, sell_amount)\n",
    "    time.sleep(3) \n",
    "    tkn_price_arr.append(1/float(res['price']))\n",
    "    print(f\"price: {1/float(res['price'])}\")"
   ]
  },
  {
   "cell_type": "code",
   "execution_count": 4,
   "id": "53fc5935-a8d8-45c1-9df2-fe09b93ac7dd",
   "metadata": {
    "tags": []
   },
   "outputs": [],
   "source": [
    "lp_tot_arr = []\n",
    "x_amt_arr = []\n",
    "y_amt_arr = []\n",
    "lp_price_arr = []\n",
    "update = UpdateReserves(lp, x0 = tkn_price_arr[0])\n",
    "\n",
    "for p in tkn_price_arr[1:]: \n",
    "            \n",
    "    do_update = True    \n",
    "    while(do_update):\n",
    "        try: \n",
    "            update.apply(p)\n",
    "            do_update = False \n",
    "        except:\n",
    "            p = p + np.random.normal(0, 0.1)  \n",
    "            do_update = True \n",
    "                \n",
    "    lp_price_arr.append(lp.get_price(update.get_x_tkn()))    \n",
    "    x_amt_arr.append(lp.get_reserve(update.get_y_tkn()))  \n",
    "    y_amt_arr.append(lp.get_reserve(update.get_x_tkn())) "
   ]
  },
  {
   "cell_type": "code",
   "execution_count": 5,
   "id": "a4b6794a-03e0-4fc2-b077-683080e00c5e",
   "metadata": {
    "tags": []
   },
   "outputs": [
    {
     "data": {
      "text/plain": [
       "[305312.93908005353,\n",
       " 305312.93908005307,\n",
       " 305312.93908005353,\n",
       " 305312.93908005307]"
      ]
     },
     "execution_count": 5,
     "metadata": {},
     "output_type": "execute_result"
    }
   ],
   "source": [
    "x_amt_arr"
   ]
  },
  {
   "cell_type": "code",
   "execution_count": 6,
   "id": "8af2af7c-3a40-4970-a43c-f0ff48f48281",
   "metadata": {
    "tags": []
   },
   "outputs": [
    {
     "data": {
      "text/plain": [
       "[99.99999999999986, 100.0, 99.99999999999986, 100.0]"
      ]
     },
     "execution_count": 6,
     "metadata": {},
     "output_type": "execute_result"
    }
   ],
   "source": [
    "y_amt_arr"
   ]
  },
  {
   "cell_type": "code",
   "execution_count": 7,
   "id": "dd2590ec-0a97-40f2-9d93-162d60e0f473",
   "metadata": {
    "tags": []
   },
   "outputs": [
    {
     "data": {
      "text/plain": [
       "[3053.1293908005396,\n",
       " 3053.1293908005305,\n",
       " 3053.1293908005396,\n",
       " 3053.1293908005305]"
      ]
     },
     "execution_count": 7,
     "metadata": {},
     "output_type": "execute_result"
    }
   ],
   "source": [
    "lp_price_arr"
   ]
  }
 ],
 "metadata": {
  "kernelspec": {
   "display_name": "Python 3 (ipykernel)",
   "language": "python",
   "name": "python3"
  },
  "language_info": {
   "codemirror_mode": {
    "name": "ipython",
    "version": 3
   },
   "file_extension": ".py",
   "mimetype": "text/x-python",
   "name": "python",
   "nbconvert_exporter": "python",
   "pygments_lexer": "ipython3",
   "version": "3.11.5"
  }
 },
 "nbformat": 4,
 "nbformat_minor": 5
}
