{
 "cells": [
  {
   "cell_type": "code",
   "execution_count": 1,
   "id": "31712e2b-fc84-4880-9ebf-0ac96e132074",
   "metadata": {
    "tags": []
   },
   "outputs": [],
   "source": [
    "from uniswappy import *\n",
    "import time\n",
    "\n",
    "sell_token = '0xa0b86991c6218b36c1d19d4a2e9eb0ce3606eb48'\n",
    "buy_token = '0xc02aaa39b223fe8d0a0e5c4f27ead9083c756cc2'\n",
    "sell_amount = '10000000'\n",
    "\n",
    "api = API0x(chain = Chain0x.ETHEREUM)\n",
    "res = api.apply(sell_token, buy_token, sell_amount)"
   ]
  },
  {
   "cell_type": "code",
   "execution_count": 2,
   "id": "d97d2cee-b200-433a-9acd-7b74874460c9",
   "metadata": {
    "tags": []
   },
   "outputs": [
    {
     "name": "stdout",
     "output_type": "stream",
     "text": [
      "Exchange ETH-USDC (LP)\n",
      "Reserves: ETH = 100, USDC = 307483.4675175299\n",
      "Liquidity: 5545.119182826731 \n",
      "\n"
     ]
    }
   ],
   "source": [
    "prices = []\n",
    "\n",
    "USER_NM = 'user0'\n",
    "eth_amount = 100\n",
    "tkn_amount = eth_amount/float(res['price'])\n",
    "\n",
    "usdc = ERC20(\"USDC\", \"0x111\")\n",
    "eth = ERC20(\"ETH\", \"0x09\")\n",
    "exchg_data = UniswapExchangeData(tkn0 = eth, tkn1 = usdc, symbol=\"LP\", address=\"0x011\")\n",
    "\n",
    "factory = UniswapFactory(\"ETH pool factory\", \"0x2\")\n",
    "lp = factory.deploy(exchg_data)\n",
    "lp.add_liquidity(\"user0\", eth_amount, tkn_amount, eth_amount, tkn_amount)\n",
    "lp.summary()\n"
   ]
  },
  {
   "cell_type": "code",
   "execution_count": 3,
   "id": "d0d8bf2d-1fed-42cb-b3bf-6bfc56f58417",
   "metadata": {
    "tags": []
   },
   "outputs": [
    {
     "name": "stdout",
     "output_type": "stream",
     "text": [
      "price: 3074.8346751752993\n",
      "price: 3074.8346751752993\n",
      "price: 3074.8346751752993\n",
      "price: 3074.8346751752993\n",
      "price: 3074.8346751752993\n"
     ]
    }
   ],
   "source": [
    "N = 5\n",
    "tkn_price_arr = []\n",
    "\n",
    "for k in range(N):\n",
    "    res = api.apply(sell_token, buy_token, sell_amount)\n",
    "    time.sleep(3) \n",
    "    tkn_price_arr.append(1/float(res['price']))\n",
    "    print(f\"price: {1/float(res['price'])}\")"
   ]
  },
  {
   "cell_type": "code",
   "execution_count": 4,
   "id": "53fc5935-a8d8-45c1-9df2-fe09b93ac7dd",
   "metadata": {
    "tags": []
   },
   "outputs": [],
   "source": [
    "lp_tot_arr = []\n",
    "x_amt_arr = []\n",
    "y_amt_arr = []\n",
    "lp_price_arr = []\n",
    "correction = CorrectReserves(lp, x0 = tkn_price_arr[0])\n",
    "tDel = TokenDeltaModel(50)\n",
    "\n",
    "for p in tkn_price_arr[1:]: \n",
    "    \n",
    "    # arbitrage correction\n",
    "    correction.apply(p)\n",
    "    lp_price_arr.append(lp.get_price(correction.get_x_tkn()))  \n",
    "    x_amt_arr.append(lp.get_reserve(correction.get_y_tkn()))  \n",
    "    y_amt_arr.append(lp.get_reserve(correction.get_x_tkn()))  \n",
    "    \n",
    "    # take a random trade\n",
    "    out = RandomSwap(tDel = tDel).apply(lp, eth, USER_NM)\n",
    "    lp_price_arr.append(lp.get_price(correction.get_x_tkn()))  \n",
    "    x_amt_arr.append(lp.get_reserve(correction.get_y_tkn()))  \n",
    "    y_amt_arr.append(lp.get_reserve(correction.get_x_tkn()))        "
   ]
  },
  {
   "cell_type": "code",
   "execution_count": 5,
   "id": "a4b6794a-03e0-4fc2-b077-683080e00c5e",
   "metadata": {
    "tags": []
   },
   "outputs": [
    {
     "data": {
      "text/plain": [
       "[307483.4675175291,\n",
       " 307492.90438117756,\n",
       " 307487.2341197242,\n",
       " 307499.3733065028,\n",
       " 307488.2115258657,\n",
       " 307491.93732460676,\n",
       " 307488.21713700093,\n",
       " 307511.0259053429]"
      ]
     },
     "execution_count": 5,
     "metadata": {},
     "output_type": "execute_result"
    }
   ],
   "source": [
    "x_amt_arr"
   ]
  },
  {
   "cell_type": "code",
   "execution_count": 6,
   "id": "8af2af7c-3a40-4970-a43c-f0ff48f48281",
   "metadata": {
    "tags": []
   },
   "outputs": [
    {
     "data": {
      "text/plain": [
       "[100.00000000000028,\n",
       " 99.99694023706277,\n",
       " 100.00184874852089,\n",
       " 99.99791280736066,\n",
       " 100.00154284988852,\n",
       " 100.00033479259011,\n",
       " 100.00154467474603,\n",
       " 99.99414959084798]"
      ]
     },
     "execution_count": 6,
     "metadata": {},
     "output_type": "execute_result"
    }
   ],
   "source": [
    "y_amt_arr"
   ]
  },
  {
   "cell_type": "code",
   "execution_count": 7,
   "id": "dd2590ec-0a97-40f2-9d93-162d60e0f473",
   "metadata": {
    "tags": []
   },
   "outputs": [
    {
     "data": {
      "text/plain": [
       "[3074.834675175282,\n",
       " 3075.023132229887,\n",
       " 3074.8154955912473,\n",
       " 3075.057915447495,\n",
       " 3074.834675175299,\n",
       " 3074.9090786783195,\n",
       " 3074.8346751752997,\n",
       " 3075.290176111343]"
      ]
     },
     "execution_count": 7,
     "metadata": {},
     "output_type": "execute_result"
    }
   ],
   "source": [
    "lp_price_arr"
   ]
  }
 ],
 "metadata": {
  "kernelspec": {
   "display_name": "Python 3 (ipykernel)",
   "language": "python",
   "name": "python3"
  },
  "language_info": {
   "codemirror_mode": {
    "name": "ipython",
    "version": 3
   },
   "file_extension": ".py",
   "mimetype": "text/x-python",
   "name": "python",
   "nbconvert_exporter": "python",
   "pygments_lexer": "ipython3",
   "version": "3.11.5"
  }
 },
 "nbformat": 4,
 "nbformat_minor": 5
}
