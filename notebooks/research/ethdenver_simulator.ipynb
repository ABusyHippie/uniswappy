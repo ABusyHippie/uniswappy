{
 "cells": [
  {
   "cell_type": "code",
   "execution_count": 1,
   "id": "a7a72498-820c-44f1-8e56-fb34a02050b6",
   "metadata": {
    "tags": []
   },
   "outputs": [],
   "source": [
    "import datetime\n",
    "from uniswappy import *\n",
    "import matplotlib.pyplot as plt"
   ]
  },
  {
   "cell_type": "code",
   "execution_count": 2,
   "id": "3b44f14c-cc2d-4379-8223-12ae27079079",
   "metadata": {
    "tags": []
   },
   "outputs": [
    {
     "ename": "KeyError",
     "evalue": "'price'",
     "output_type": "error",
     "traceback": [
      "\u001b[0;31m---------------------------------------------------------------------------\u001b[0m",
      "\u001b[0;31mKeyError\u001b[0m                                  Traceback (most recent call last)",
      "Cell \u001b[0;32mIn[2], line 34\u001b[0m\n\u001b[1;32m     24\u001b[0m \u001b[38;5;66;03m# -------------------\u001b[39;00m\n\u001b[1;32m     25\u001b[0m \u001b[38;5;66;03m# ETHDenverSim\u001b[39;00m\n\u001b[1;32m     26\u001b[0m \u001b[38;5;66;03m# -------------------\u001b[39;00m\n\u001b[1;32m     27\u001b[0m sim \u001b[38;5;241m=\u001b[39m ETHDenverSimulator(buy_token \u001b[38;5;241m=\u001b[39m chain\u001b[38;5;241m.\u001b[39mget_buy_token(),\n\u001b[1;32m     28\u001b[0m                          sell_token \u001b[38;5;241m=\u001b[39m chain\u001b[38;5;241m.\u001b[39mget_sell_token(),\n\u001b[1;32m     29\u001b[0m                          time_window \u001b[38;5;241m=\u001b[39m chain\u001b[38;5;241m.\u001b[39mtime_window,\n\u001b[1;32m     30\u001b[0m                          trade_bias \u001b[38;5;241m=\u001b[39m chain\u001b[38;5;241m.\u001b[39mtrade_bias,\n\u001b[1;32m     31\u001b[0m                          td_model \u001b[38;5;241m=\u001b[39m chain\u001b[38;5;241m.\u001b[39mget_td_model(),\n\u001b[1;32m     32\u001b[0m                          api \u001b[38;5;241m=\u001b[39m eth_api)\n\u001b[0;32m---> 34\u001b[0m sim\u001b[38;5;241m.\u001b[39minit_lp(init_x_tkn \u001b[38;5;241m=\u001b[39m chain\u001b[38;5;241m.\u001b[39mget_buy_init_amt(), \n\u001b[1;32m     35\u001b[0m             x_tkn_nm \u001b[38;5;241m=\u001b[39m chain\u001b[38;5;241m.\u001b[39mbuy_tkn_nm, \n\u001b[1;32m     36\u001b[0m             init_x_invest \u001b[38;5;241m=\u001b[39m chain\u001b[38;5;241m.\u001b[39minit_investment)\n",
      "File \u001b[0;32m/opt/homebrew/anaconda3/lib/python3.11/site-packages/uniswappy/simulate/ETHDenverSimulator.py:362\u001b[0m, in \u001b[0;36mETHDenverSimulator.init_lp\u001b[0;34m(self, init_x_tkn, x_tkn_nm, y_tkn_nm, init_x_invest)\u001b[0m\n\u001b[1;32m    360\u001b[0m \u001b[38;5;28mself\u001b[39m\u001b[38;5;241m.\u001b[39mstate \u001b[38;5;241m=\u001b[39m \u001b[38;5;28mself\u001b[39m\u001b[38;5;241m.\u001b[39mSTATE_INIT\n\u001b[1;32m    361\u001b[0m \u001b[38;5;28mself\u001b[39m\u001b[38;5;241m.\u001b[39mapi_0x_data \u001b[38;5;241m=\u001b[39m \u001b[38;5;28mself\u001b[39m\u001b[38;5;241m.\u001b[39mcall_0x_api()\n\u001b[0;32m--> 362\u001b[0m p \u001b[38;5;241m=\u001b[39m \u001b[38;5;28mself\u001b[39m\u001b[38;5;241m.\u001b[39mget_market_price()\n\u001b[1;32m    363\u001b[0m x_tkn_amt \u001b[38;5;241m=\u001b[39m init_x_tkn\n\u001b[1;32m    364\u001b[0m y_tkn_amt \u001b[38;5;241m=\u001b[39m x_tkn_amt\u001b[38;5;241m*\u001b[39mp\n",
      "File \u001b[0;32m/opt/homebrew/anaconda3/lib/python3.11/site-packages/uniswappy/simulate/ETHDenverSimulator.py:326\u001b[0m, in \u001b[0;36mETHDenverSimulator.get_market_price\u001b[0;34m(self)\u001b[0m\n\u001b[1;32m    314\u001b[0m \u001b[38;5;28;01mdef\u001b[39;00m \u001b[38;5;21mget_market_price\u001b[39m(\u001b[38;5;28mself\u001b[39m): \n\u001b[1;32m    316\u001b[0m \u001b[38;5;250m    \u001b[39m\u001b[38;5;124;03m\"\"\" get_market_price\u001b[39;00m\n\u001b[1;32m    317\u001b[0m \n\u001b[1;32m    318\u001b[0m \u001b[38;5;124;03m        Get market price returned from 0x API call \u001b[39;00m\n\u001b[0;32m   (...)\u001b[0m\n\u001b[1;32m    323\u001b[0m \u001b[38;5;124;03m            price valued in x/y (NOTE: returns x/y not y/x due to a nuance in SolveDeltas class)                   \u001b[39;00m\n\u001b[1;32m    324\u001b[0m \u001b[38;5;124;03m    \"\"\"\u001b[39;00m          \n\u001b[0;32m--> 326\u001b[0m     \u001b[38;5;28;01mreturn\u001b[39;00m \u001b[38;5;241m1\u001b[39m\u001b[38;5;241m/\u001b[39m\u001b[38;5;28mfloat\u001b[39m(\u001b[38;5;28mself\u001b[39m\u001b[38;5;241m.\u001b[39mapi_0x_data[\u001b[38;5;124m'\u001b[39m\u001b[38;5;124mprice\u001b[39m\u001b[38;5;124m'\u001b[39m]) \u001b[38;5;28;01mif\u001b[39;00m \u001b[38;5;28mself\u001b[39m\u001b[38;5;241m.\u001b[39mapi_0x_data \u001b[38;5;241m!=\u001b[39m \u001b[38;5;28;01mNone\u001b[39;00m \u001b[38;5;28;01melse\u001b[39;00m \u001b[38;5;241m-\u001b[39m\u001b[38;5;241m1\u001b[39m\n",
      "\u001b[0;31mKeyError\u001b[0m: 'price'"
     ]
    }
   ],
   "source": [
    "# -------------------\n",
    "# Canonical Settings\n",
    "# -------------------\n",
    "\n",
    "# Buy token selections\n",
    "# - Chain0x.WETH\n",
    "# - Chain0x.LINK\n",
    "# - Chain0x.UNI\n",
    "# - Chain0x.WBTC\n",
    "# - Chain0x.BNB\n",
    "\n",
    "# Sell token selections\n",
    "# - Chain0x.USDC\n",
    "# - Chain0x.USDT\n",
    "# - Chain0x.DAI\n",
    "\n",
    "\n",
    "chain = Chain0x(chain_nm = Chain0x.ETHEREUM, buy_tkn_nm = Chain0x.WETH, sell_tkn_nm = Chain0x.USDC)\n",
    "#chain = Chain0x(chain_nm = Chain0x.POLYGON, buy_tkn_nm = Chain0x.WETH, sell_tkn_nm = Chain0x.USDC)\n",
    "#chain = Chain0x(chain_nm = Chain0x.OPTIMISM, buy_tkn_nm = Chain0x.LINK, sell_tkn_nm = Chain0x.DAI)\n",
    "\n",
    "eth_api = API0x(chain = chain.chain_nm)\n",
    "\n",
    "# -------------------\n",
    "# ETHDenverSim\n",
    "# -------------------\n",
    "sim = ETHDenverSimulator(buy_token = chain.get_buy_token(),\n",
    "                         sell_token = chain.get_sell_token(),\n",
    "                         time_window = chain.time_window,\n",
    "                         trade_bias = chain.trade_bias,\n",
    "                         td_model = chain.get_td_model(),\n",
    "                         api = eth_api)\n",
    "\n",
    "sim.init_lp(init_x_tkn = chain.get_buy_init_amt(), \n",
    "            x_tkn_nm = chain.buy_tkn_nm, \n",
    "            init_x_invest = chain.init_investment)\n",
    "\n",
    "# --------------------\n",
    "# INFINITE PROCESS\n",
    "# --------------------\n",
    "# sim.process()  \n",
    "\n",
    "# --------------------\n",
    "# RETRIEVE STATE DATA\n",
    "# --------------------\n",
    "# swap_x_reserve = sim.get_x_reserve(ETHDenverSimulator.STATE_SWAP)\n",
    "# swap_y_reserve = sim.get_y_reserve(ETHDenverSimulator.STATE_SWAP)\n",
    "\n",
    "# arb_x_reserve = sim.get_x_reserve(ETHDenverSimulator.STATE_ARB)\n",
    "# arb_y_reserve = sim.get_y_reserve(ETHDenverSimulator.STATE_ARB)\n",
    "\n",
    "# swap_lp_price = sim.get_lp_price(ETHDenverSimulator.STATE_SWAP)\n",
    "# arb_lp_price = sim.get_lp_price(ETHDenverSimulator.STATE_ARB)\n",
    "\n",
    "# swap_amt = sim.get_swap_amt()"
   ]
  },
  {
   "cell_type": "code",
   "execution_count": null,
   "id": "ce8d55c0-3fa5-4687-8628-7a40e4f4b236",
   "metadata": {
    "tags": []
   },
   "outputs": [],
   "source": [
    "N_TRIALS = 20\n",
    "x_amt_arr = []\n",
    "y_amt_arr = []\n",
    "y_redeem_arr = []\n",
    "x_redeem_arr = []\n",
    "lp_price_arr = []\n",
    "tstamp_arr = []\n",
    "swap_amt_arr = []\n",
    "swap_tstamp_arr = []\n",
    "trial_volume_arr = []\n",
    "\n",
    "for k in range(N_TRIALS):\n",
    "    sim.trial()\n",
    "    y_redeem_arr.append(sim.get_y_redeem())\n",
    "    x_redeem_arr.append(sim.get_x_redeem()) \n",
    "    tstamp_arr.append(sim.get_time_stamp(ETHDenverSimulator.STATE_SWAP))\n",
    "    tstamp_arr.append(sim.get_time_stamp(ETHDenverSimulator.STATE_ARB))    \n",
    "    x_amt_arr.append(sim.get_x_reserve(ETHDenverSimulator.STATE_SWAP))\n",
    "    x_amt_arr.append(sim.get_x_reserve(ETHDenverSimulator.STATE_ARB))\n",
    "    y_amt_arr.append(sim.get_y_reserve(ETHDenverSimulator.STATE_SWAP))\n",
    "    y_amt_arr.append(sim.get_y_reserve(ETHDenverSimulator.STATE_ARB))   \n",
    "    lp_price_arr.append(sim.get_lp_price(ETHDenverSimulator.STATE_SWAP))\n",
    "    lp_price_arr.append(sim.get_lp_price(ETHDenverSimulator.STATE_ARB))\n",
    "    swap_tstamp_arr.append(sim.get_time_stamp(ETHDenverSimulator.STATE_ARB))\n",
    "    swap_amt_arr.append(sim.get_swap_amt())\n",
    "    trial_volume_arr.append(sim.get_usd_trial_volume())\n",
    "    if (k % 1 == 0): print(f\"Trial {k}\")   "
   ]
  },
  {
   "cell_type": "code",
   "execution_count": null,
   "id": "21c8e4ee-496d-4c5f-8690-be3b39be8da7",
   "metadata": {
    "tags": []
   },
   "outputs": [],
   "source": [
    "fig, (p_ax, tkn1_ax, tkn2_ax, s_ax) = plt.subplots(nrows=4, sharex=False, sharey=False, figsize=(15, 12))\n",
    "p_ax.plot(tstamp_arr, lp_price_arr, label='pool')\n",
    "p_ax.set_ylabel(f'{sim.get_x_tkn().token_name} / {sim.get_y_tkn().token_name}', fontsize=16)\n",
    "p_ax.legend(fontsize=16, facecolor=\"lightgray\", loc='lower right')\n",
    "\n",
    "tkn1_ax.plot(tstamp_arr, x_amt_arr)\n",
    "tkn1_ax.set_ylabel(f'{sim.get_x_tkn().token_name} Reserves', fontsize=16)\n",
    "\n",
    "tkn2_ax.plot(tstamp_arr, y_amt_arr)\n",
    "tkn2_ax.set_ylabel(f'{sim.get_y_tkn().token_name} Reserves', fontsize=16)\n",
    "\n",
    "s_ax.plot(swap_tstamp_arr, swap_amt_arr)\n",
    "s_ax.set_ylabel(f'{sim.get_x_tkn().token_name} Swap Amounts', fontsize=16)"
   ]
  },
  {
   "cell_type": "code",
   "execution_count": null,
   "id": "87caf47a-3e3b-4d90-bc33-e63127458d27",
   "metadata": {
    "tags": []
   },
   "outputs": [],
   "source": [
    "fig, (x_ax, y_ax, vol_ax) = plt.subplots(nrows=3, sharex=False, sharey=False, figsize=(15, 10))\n",
    "x_ax.plot(swap_tstamp_arr, x_redeem_arr, label='x redeem')\n",
    "x_ax.set_ylabel(f'Redeem {sim.get_x_tkn().token_name} ', fontsize=16)\n",
    "\n",
    "y_ax.plot(swap_tstamp_arr, y_redeem_arr, label='y redeem')\n",
    "y_ax.set_ylabel(f'Redeem {sim.get_y_tkn().token_name} ', fontsize=16)\n",
    "\n",
    "vol_ax.plot(swap_tstamp_arr, np.cumsum(trial_volume_arr), label='y redeem')\n",
    "vol_ax.set_ylabel(f'Volume {sim.get_y_tkn().token_name} ', fontsize=16)"
   ]
  }
 ],
 "metadata": {
  "kernelspec": {
   "display_name": "Python 3 (ipykernel)",
   "language": "python",
   "name": "python3"
  },
  "language_info": {
   "codemirror_mode": {
    "name": "ipython",
    "version": 3
   },
   "file_extension": ".py",
   "mimetype": "text/x-python",
   "name": "python",
   "nbconvert_exporter": "python",
   "pygments_lexer": "ipython3",
   "version": "3.11.5"
  }
 },
 "nbformat": 4,
 "nbformat_minor": 5
}
