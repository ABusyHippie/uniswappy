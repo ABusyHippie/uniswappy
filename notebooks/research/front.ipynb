{
 "cells": [
  {
   "cell_type": "markdown",
   "id": "6aa71a25-1f11-4c43-8f57-de6899b02690",
   "metadata": {},
   "source": [
    "### Front End Visualization"
   ]
  },
  {
   "cell_type": "code",
   "execution_count": null,
   "id": "6e22ed37-a819-417e-aa33-dc8f216c05fb",
   "metadata": {},
   "outputs": [],
   "source": [
    "from bokeh.plotting import figure, show\n",
    "\n",
    "from bokeh.layouts import column\n",
    "from bokeh.models import ColumnDataSource, CustomJS\n",
    "\n",
    "import json\n",
    "\n",
    "# Define a callback function to update the data source\n",
    "def update_data():\n",
    "    api = API0x()  \n",
    "    sell_token = '0xa0b86991c6218b36c1d19d4a2e9eb0ce3606eb48' # USDC\n",
    "    buy_token = '0xc02aaa39b223fe8d0a0e5c4f27ead9083c756cc2' # WETH\n",
    "    sell_amount = 10000000 # 10 USDC (USDC has a base unit of 6)\n",
    "    data_json = api.apply(\"sell_token\", \"buy_token\", sell_amount)\n",
    "    data = json.loads(data_json)\n",
    "    source.data = data\n",
    "\n",
    "\n",
    "# Create a ColumnDataSource\n",
    "source = ColumnDataSource(data=dict(timestamp=[], price=[]))\n",
    "\n",
    "# Create a line plot\n",
    "p = figure(\n",
    "    x_axis_label=\"Timestamp\",\n",
    "    y_axis_label=\"Price\",\n",
    "    title=\"Live Data Feed from API0x\",\n",
    ")\n",
    "line = p.line(\"timestamp\", \"price\", source=source, line_width=2)\n",
    "\n",
    "# Configure callback and timer\n",
    "callback = CustomJS(args=dict(source=source), code=update_data, trigger=\"timeout\")\n",
    "p.js_on_event(\"timeout\", callback)\n",
    "\n",
    "# Set initial timeout and run the callback\n",
    "show(column(p))\n",
    "cb_id = p.js_on_event(\"timeout\", callback)\n",
    "p.js_on_event(\"timeout\", callback)  # Trigger initial update\n",
    "\n",
    "# Set a timer to call the callback every 5 seconds\n",
    "p.js_on_event(\"timeout\", CustomJS(args=dict(callback_id=cb_id), code=\"\"\"\n",
    "    clearTimeout(%s);\n",
    "    setTimeout(%s, 5000);\n",
    "\"\"\", callback_id=cb_id))\n",
    "\n"
   ]
  }
 ],
 "metadata": {
  "kernelspec": {
   "display_name": "Python 3 (ipykernel)",
   "language": "python",
   "name": "python3"
  },
  "language_info": {
   "codemirror_mode": {
    "name": "ipython",
    "version": 3
   },
   "file_extension": ".py",
   "mimetype": "text/x-python",
   "name": "python",
   "nbconvert_exporter": "python",
   "pygments_lexer": "ipython3",
   "version": "3.11.5"
  }
 },
 "nbformat": 4,
 "nbformat_minor": 5
}
