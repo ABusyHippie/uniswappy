{
 "cells": [
  {
   "cell_type": "markdown",
   "id": "8ee9b46b-75c6-4f77-b113-98766534604c",
   "metadata": {},
   "source": [
    "## Pairing Code Unit Tests"
   ]
  },
  {
   "cell_type": "code",
   "execution_count": 1,
   "id": "744eb40c-fdbb-4a30-9a4d-22b6e12f86ff",
   "metadata": {},
   "outputs": [],
   "source": [
    "import os\n",
    "import copy\n",
    "import numpy as np\n",
    "import pandas as pd\n",
    "import time\n",
    "import datetime\n",
    "import math\n",
    "import matplotlib.pyplot as plt\n",
    "cwd =  os.getcwd().replace(\"notebooks/tutorials\",\"\")\n",
    "os.chdir(cwd)"
   ]
  },
  {
   "cell_type": "code",
   "execution_count": 2,
   "id": "440f92b5-615b-4550-83d6-a3e8c2875184",
   "metadata": {},
   "outputs": [],
   "source": [
    "from src.prod.math.model import TokenDeltaModel\n",
    "from src.prod.math.model import EventSelectionModel\n",
    "from src.prod.cpt.factory import Factory\n",
    "from src.prod.cpt.exchg import Exchange\n",
    "from src.prod.erc import ERC20\n",
    "from src.prod.process.deposit import SwapDeposit\n",
    "from src.prod.process.swap import WithdrawSwap\n",
    "from src.prod.process.liquidity import RemoveLiquidity\n",
    "from src.prod.process.liquidity import AddLiquidity\n",
    "from src.prod.process.swap import Swap"
   ]
  },
  {
   "cell_type": "markdown",
   "id": "620d431e-1409-4270-bd18-ebb2b2cc7318",
   "metadata": {},
   "source": [
    "### Setup pool"
   ]
  },
  {
   "cell_type": "code",
   "execution_count": 3,
   "id": "1e68a541-b6c0-4733-949d-d6ac123f2b72",
   "metadata": {},
   "outputs": [],
   "source": [
    "user_nm = 'user0'\n",
    "eth_amount = 1000\n",
    "tkn_amount = 100000"
   ]
  },
  {
   "cell_type": "code",
   "execution_count": 4,
   "id": "c1de04eb-8852-430d-9273-8c6833cddd7d",
   "metadata": {},
   "outputs": [
    {
     "name": "stdout",
     "output_type": "stream",
     "text": [
      "Exchange ETH/TKN (LP)\n",
      "Coins: ETH/TKN\n",
      "Reserves: ETH = 1000 | TKN = 100000\n",
      "Liquidity: 10000.0 \n",
      "\n"
     ]
    }
   ],
   "source": [
    "tkn = ERC20(\"TKN\", \"0x111\")\n",
    "eth = ERC20(\"ETH\", \"0x09\")\n",
    "factory = Factory(\"ETH pool factory\", \"0x2\")\n",
    "lp = factory.create_exchange(eth, tkn, symbol=\"LP\", address=\"0x011\")\n",
    "lp.add_liquidity(\"user0\", eth_amount, tkn_amount, eth_amount, tkn_amount)\n",
    "lp.info()"
   ]
  },
  {
   "cell_type": "code",
   "execution_count": 5,
   "id": "e6b8acd3-31ad-4926-aea3-98752f139dcd",
   "metadata": {},
   "outputs": [],
   "source": [
    "tDel = TokenDeltaModel(50)\n",
    "ev = EventSelectionModel()"
   ]
  },
  {
   "cell_type": "markdown",
   "id": "3ade92dd-d0f9-4daa-a102-4103c649ec26",
   "metadata": {},
   "source": [
    "**swap**: swaps X for Y (and vice verse) <br>\n",
    "**random_swap**: randomly swaps random amounts of X for Y (and vice verse) <br>\n",
    "**add_liquidity**: adds liquidity using only X or Y amounts <br>\n",
    "**remove_liquidity**: removes liquidity using only X or Y amounts <br>\n",
    "**itoken_deposit**: reflects iToken updates on parent LP state changes <br>\n",
    "**swap_deposit**: deposit desired token -> perform 50% swap ->  perform 50/50 deposit <br>\n",
    "**withdraw_swap**: perform 50/50 withdraw  -> swap remaining 50% -> return desired token <br>"
   ]
  },
  {
   "cell_type": "code",
   "execution_count": 6,
   "id": "483a1a4b-f28e-4ed0-9a2c-453e0f3fc472",
   "metadata": {},
   "outputs": [],
   "source": [
    "def random_swap(lp, user_nm, amount_in = None,  \n",
    "            ev = EventSelectionModel(), \n",
    "            tDel = TokenDeltaModel(50)):\n",
    "    \n",
    "    amount_in = tDel.delta() if amount_in == None else amount_in\n",
    "    direction = ev.bi_select(0.5) \n",
    "    tokens = list(lp.factory.exchange_to_tokens.values())[0]\n",
    "    \n",
    "    if(direction == 0):\n",
    "        token_in = tokens[lp.token0]\n",
    "        amount_out_expected = swap(lp, token_in, user_nm, amount_in)\n",
    "    elif(direction == 1):\n",
    "        token_in = tokens[lp.token1]\n",
    "        amount_out_expected = swap(lp, token_in, user_nm, amount_in)\n",
    "        \n",
    "    return amount_out_expected\n",
    "\n",
    "def swap(lp, token_in, user_nm, amount_in = None,  \n",
    "            ev = EventSelectionModel(), \n",
    "            tDel = TokenDeltaModel(50)):\n",
    "    \n",
    "    amount_in = tDel.delta() if amount_in == None else amount_in\n",
    "    amount_out = math.floor(lp.get_amount_out(amount_in, token_in))\n",
    "    amount_out_expected = lp.swap_exact_tokens_for_tokens(amount_in, amount_out, token_in, to=user_nm)\n",
    "    return amount_out_expected\n",
    "    \n",
    "def add_liquidity(lp, token_in, user_nm, amount_in = None,\n",
    "                 tDel = TokenDeltaModel(50)):\n",
    "    \n",
    "    amount_in = tDel.delta() if amount_in == None else amount_in\n",
    "    if(token_in.token_name == lp.token0):\n",
    "        balance0 = amount_in\n",
    "        balance1 = lp.quote(amount_in, lp.reserve0, lp.reserve1)\n",
    "        lp.add_liquidity(user_nm, balance0, balance1, balance0, balance1)\n",
    "    elif(token_in.token_name == lp.token1):\n",
    "        balance1 = amount_in\n",
    "        balance0 = lp.quote(amount_in, lp.reserve1, lp.reserve0)\n",
    "        lp.add_liquidity(user_nm, balance0, balance1, balance0, balance1) \n",
    "        \n",
    "    return balance0, balance1   \n",
    "          \n",
    "        \n",
    "def remove_liquidity(lp, token_in, user_nm, amount_in = None,\n",
    "                     tDel = TokenDeltaModel(50)):\n",
    "    \n",
    "    amount_in = tDel.delta() if amount_in == None else amount_in\n",
    "    if(token_in.token_name == lp.token0):\n",
    "        liq = amount_in*lp.total_supply/lp.reserve0\n",
    "        amount1 = liq*lp.reserve1/lp.total_supply\n",
    "        amount0, amount1 = lp.remove_liquidity('user0', liq, amount_in, amount1)\n",
    "    elif(token_in.token_name == lp.token1): \n",
    "        liq = amount_in*lp.total_supply/lp.reserve1\n",
    "        amount0 = liq*lp.reserve0/lp.total_supply\n",
    "        amount0, amount1 = lp.remove_liquidity('user0', liq, amount0, amount_in)  \n",
    "        \n",
    "    return {lp.token0:amount0, lp.token1:amount1}    \n",
    "        \n",
    "def itoken_deposit(percentage, lp1, lp2, user_nm, itoken):  \n",
    "    \n",
    "    percent_extract_x = (percentage)*(1997/4000)\n",
    "    if(itoken.token_name == lp2.token1):\n",
    "        balance0 = lp2.reserve0\n",
    "        balance1 = percent_extract_x*lp1.reserve1\n",
    "        lp2.burn(user_nm, lp2.liquidity_providers[user_nm], lp2.reserve0, lp2.reserve1)\n",
    "        tokens = lp2.factory.exchange_to_tokens[lp2.name]\n",
    "        tokens.get(lp2.token0).deposit(user_nm, balance0)\n",
    "        tokens.get(lp2.token1).deposit(user_nm, balance1)\n",
    "        lp2.mint(user_nm, balance0, balance1)       \n",
    "        \n",
    "        #lp2.update_reserves(user_nm, amount0_update = itoken) \n",
    "    elif(itoken.token_name == lp2.token0):  \n",
    "        balance0 = lp2.reserve1\n",
    "        balance1 = percent_extract_x*lp1.reserve0\n",
    "        lp2.burn(user_nm, lp2.liquidity_providers[user_nm], lp2.reserve0, lp2.reserve1)\n",
    "        tokens = lp2.factory.exchange_to_tokens[lp2.name]\n",
    "        tokens.get(lp2.token0).deposit(user_nm, balance0)\n",
    "        tokens.get(lp2.token1).deposit(user_nm, balance1)\n",
    "        lp2.mint(user_nm, balance0, balance1)            \n",
    "        \n",
    "        #itoken = percent_extract_x*lp1.reserve1\n",
    "        #lp2.update_reserves(user_nm, amount0_update = itoken)     \n",
    "\n",
    "def get_trading_token(lp, token):\n",
    "    #tokens = list(lp.factory.exchange_to_tokens.values())[0]\n",
    "    tokens = lp.factory.exchange_to_tokens[lp.name]\n",
    "    trading_token = tokens[lp.token1] if token.token_name == lp.token0 else tokens[lp.token0]\n",
    "    return trading_token\n",
    "        \n",
    "def swap_deposit(lp, token_in, user_nm, amount_in = None,  \n",
    "            ev = EventSelectionModel(), \n",
    "            tDel = TokenDeltaModel(50)):\n",
    "    amount_in = tDel.delta() if amount_in == None else amount_in\n",
    "    \n",
    "    amount_out = swap(lp, token_in, user_nm, 0.5*amount_in)\n",
    "    trading_token = get_trading_token(lp, token_in)\n",
    "    add_liquidity(lp, trading_token, user_nm, amount_out) \n",
    "    return 0.5*amount_in, amount_out\n",
    "    \n",
    "def withdraw_swap(lp, token_out, user_nm, amount_out = None,  \n",
    "            ev = EventSelectionModel(), \n",
    "            tDel = TokenDeltaModel(50)):\n",
    "    amount_out = tDel.delta() if amount_out == None else amount_out\n",
    "    \n",
    "    res = remove_liquidity(lp, token_out, user_nm, 0.5*amount_out)\n",
    "    trading_token = get_trading_token(lp, token_out)\n",
    "    \n",
    "    amount_out_expected = swap(lp, trading_token, user_nm, res[trading_token.token_name])  \n",
    "    return amount_out_expected+0.5*amount_out \n",
    "\n",
    "def index_token_burn(user_nm, lp_tkn, token, lp_burn_amt):\n",
    "    tkn_amts = ivault.burn_lp_token(user_nm, lp_tkn, token, lp_burn_amt)\n",
    "    result = -1\n",
    "    if(not tkn_amts):\n",
    "        trading_token = get_trading_token(lp_tkn, token)\n",
    "        out = swap(lp_tkn, trading_token, user_nm, tkn_amts[trading_token.token_name])\n",
    "        result = out+tkn_amts[token.token_name]\n",
    "    return result\n",
    "    "
   ]
  },
  {
   "cell_type": "markdown",
   "id": "4d1a3d37-a5b7-42c9-84f6-35a049bf4826",
   "metadata": {},
   "source": [
    "**swap(tkn):** swap tkn for eth"
   ]
  },
  {
   "cell_type": "code",
   "execution_count": 7,
   "id": "b1d1f2c2-a3c5-40dc-956b-bc6390fd7789",
   "metadata": {},
   "outputs": [
    {
     "name": "stdout",
     "output_type": "stream",
     "text": [
      "Exchange ETH/TKN (LP)\n",
      "Coins: ETH/TKN\n",
      "Reserves: ETH = 1000 | TKN = 100000\n",
      "Liquidity: 10000.0 \n",
      "\n",
      "Exchange ETH/TKN (LP)\n",
      "Coins: ETH/TKN\n",
      "Reserves: ETH = 990.1284196560293 | TKN = 101000\n",
      "Liquidity: 10000.0 \n",
      "\n"
     ]
    }
   ],
   "source": [
    "tkn = ERC20(\"TKN\", \"0x111\")\n",
    "eth = ERC20(\"ETH\", \"0x09\")\n",
    "factory = Factory(\"ETH pool factory\", \"0x2\")\n",
    "lp = factory.create_exchange(eth, tkn, symbol=\"LP\", address=\"0x011\")\n",
    "lp.add_liquidity(user_nm, eth_amount, tkn_amount, eth_amount, tkn_amount)\n",
    "lp.info()\n",
    "\n",
    "out = swap(lp, tkn, user_nm, 1000)\n",
    "lp.info()"
   ]
  },
  {
   "cell_type": "markdown",
   "id": "865bc323-fd14-42b5-9cfd-26d923a39f23",
   "metadata": {},
   "source": [
    "**swap(eth):** swap eth for tkn"
   ]
  },
  {
   "cell_type": "code",
   "execution_count": 8,
   "id": "901298ea-eb06-479d-b05f-711da5d80331",
   "metadata": {},
   "outputs": [
    {
     "name": "stdout",
     "output_type": "stream",
     "text": [
      "Exchange ETH/TKN (LP)\n",
      "Coins: ETH/TKN\n",
      "Reserves: ETH = 1000 | TKN = 100000\n",
      "Liquidity: 10000.0 \n",
      "\n",
      "Exchange ETH/TKN (LP)\n",
      "Coins: ETH/TKN\n",
      "Reserves: ETH = 1010 | TKN = 99012.84196560294\n",
      "Liquidity: 10000.0 \n",
      "\n"
     ]
    }
   ],
   "source": [
    "tkn = ERC20(\"TKN\", \"0x111\")\n",
    "eth = ERC20(\"ETH\", \"0x09\")\n",
    "factory = Factory(\"ETH pool factory\", \"0x2\")\n",
    "lp = factory.create_exchange(eth, tkn, symbol=\"LP\", address=\"0x011\")\n",
    "lp.add_liquidity(user_nm, eth_amount, tkn_amount, eth_amount, tkn_amount)\n",
    "lp.info()\n",
    "\n",
    "out = swap(lp, eth, user_nm, 10)\n",
    "lp.info()"
   ]
  },
  {
   "cell_type": "markdown",
   "id": "1f6e9045-2637-4a29-8577-95d07ba9343e",
   "metadata": {},
   "source": [
    "**add_liquidity(eth)**: add LP based on eth "
   ]
  },
  {
   "cell_type": "code",
   "execution_count": 9,
   "id": "1fd83152-c93e-491d-89bf-e780ba079dd5",
   "metadata": {},
   "outputs": [
    {
     "name": "stdout",
     "output_type": "stream",
     "text": [
      "Exchange ETH/TKN (LP)\n",
      "Coins: ETH/TKN\n",
      "Reserves: ETH = 1000 | TKN = 100000\n",
      "Liquidity: 10000.0 \n",
      "\n",
      "Exchange ETH/TKN (LP)\n",
      "Coins: ETH/TKN\n",
      "Reserves: ETH = 1010 | TKN = 101000.0\n",
      "Liquidity: 10100.0 \n",
      "\n"
     ]
    }
   ],
   "source": [
    "tkn = ERC20(\"TKN\", \"0x111\")\n",
    "eth = ERC20(\"ETH\", \"0x09\")\n",
    "factory = Factory(\"ETH pool factory\", \"0x2\")\n",
    "lp = factory.create_exchange(eth, tkn, symbol=\"LP\", address=\"0x011\")\n",
    "lp.add_liquidity(user_nm, eth_amount, tkn_amount, eth_amount, tkn_amount)\n",
    "lp.info()\n",
    "\n",
    "add_liquidity(lp, eth, user_nm, 10)\n",
    "lp.info()"
   ]
  },
  {
   "cell_type": "markdown",
   "id": "7667ae3b-93a9-4253-948e-27653c7852bf",
   "metadata": {},
   "source": [
    "**add_liquidity(tkn)**: add LP based on tkn "
   ]
  },
  {
   "cell_type": "code",
   "execution_count": 10,
   "id": "f65c0db1-f95f-4274-930f-e2633066605c",
   "metadata": {},
   "outputs": [
    {
     "name": "stdout",
     "output_type": "stream",
     "text": [
      "Exchange ETH/TKN (LP)\n",
      "Coins: ETH/TKN\n",
      "Reserves: ETH = 1000 | TKN = 100000\n",
      "Liquidity: 10000.0 \n",
      "\n",
      "Exchange ETH/TKN (LP)\n",
      "Coins: ETH/TKN\n",
      "Reserves: ETH = 1010.0 | TKN = 101000.0\n",
      "Liquidity: 10100.0 \n",
      "\n"
     ]
    },
    {
     "data": {
      "text/plain": [
       "{'0': 1e-15, 'user0': 10100.0}"
      ]
     },
     "execution_count": 10,
     "metadata": {},
     "output_type": "execute_result"
    }
   ],
   "source": [
    "tkn = ERC20(\"TKN\", \"0x111\")\n",
    "eth = ERC20(\"ETH\", \"0x09\")\n",
    "factory = Factory(\"ETH pool factory\", \"0x2\")\n",
    "lp = factory.create_exchange(eth, tkn, symbol=\"LP\", address=\"0x011\")\n",
    "lp.add_liquidity(user_nm, eth_amount, tkn_amount, eth_amount, tkn_amount)\n",
    "lp.info()\n",
    "\n",
    "add_liquidity(lp, tkn, user_nm, 1000)\n",
    "lp.info()\n",
    "lp.liquidity_providers"
   ]
  },
  {
   "cell_type": "markdown",
   "id": "a05d867f-0e2b-43dc-9a22-23b650290c74",
   "metadata": {},
   "source": [
    "**remove_liquidity(eth)**: remove LP based on eth "
   ]
  },
  {
   "cell_type": "code",
   "execution_count": 11,
   "id": "2300eb80-153d-4538-a6f8-dd34839f42c2",
   "metadata": {},
   "outputs": [
    {
     "name": "stdout",
     "output_type": "stream",
     "text": [
      "Exchange ETH/TKN (LP)\n",
      "Coins: ETH/TKN\n",
      "Reserves: ETH = 1000 | TKN = 100000\n",
      "Liquidity: 10000.0 \n",
      "\n",
      "Exchange ETH/TKN (LP)\n",
      "Coins: ETH/TKN\n",
      "Reserves: ETH = 1.0 | TKN = 100.0\n",
      "Liquidity: 10.0 \n",
      "\n"
     ]
    }
   ],
   "source": [
    "tkn = ERC20(\"TKN\", \"0x111\")\n",
    "eth = ERC20(\"ETH\", \"0x09\")\n",
    "factory = Factory(\"ETH pool factory\", \"0x2\")\n",
    "lp = factory.create_exchange(eth, tkn, symbol=\"LP\", address=\"0x011\")\n",
    "lp.add_liquidity(user_nm, eth_amount, tkn_amount, eth_amount, tkn_amount)\n",
    "lp.info()\n",
    "\n",
    "remove_liquidity(lp, eth, user_nm, 999)\n",
    "lp.info()"
   ]
  },
  {
   "cell_type": "markdown",
   "id": "33e01ddc-4751-4db3-95c3-0f4b76286cdf",
   "metadata": {},
   "source": [
    "**remove_liquidity(tkn)**: remove LP based on tkn "
   ]
  },
  {
   "cell_type": "code",
   "execution_count": 12,
   "id": "5cdf6d7b-049d-42cc-b815-ba5978112c83",
   "metadata": {},
   "outputs": [
    {
     "name": "stdout",
     "output_type": "stream",
     "text": [
      "Exchange ETH/TKN (LP)\n",
      "Coins: ETH/TKN\n",
      "Reserves: ETH = 1000 | TKN = 100000\n",
      "Liquidity: 10000.0 \n",
      "\n",
      "Exchange ETH/TKN (LP)\n",
      "Coins: ETH/TKN\n",
      "Reserves: ETH = 999.0 | TKN = 99900.0\n",
      "Liquidity: 9990.0 \n",
      "\n"
     ]
    }
   ],
   "source": [
    "tkn = ERC20(\"TKN\", \"0x111\")\n",
    "eth = ERC20(\"ETH\", \"0x09\")\n",
    "factory = Factory(\"ETH pool factory\", \"0x2\")\n",
    "lp = factory.create_exchange(eth, tkn, symbol=\"LP\", address=\"0x011\")\n",
    "lp.add_liquidity(user_nm, eth_amount, tkn_amount, eth_amount, tkn_amount)\n",
    "lp.info()\n",
    "\n",
    "remove_liquidity(lp, tkn, user_nm, 100)\n",
    "lp.info()"
   ]
  },
  {
   "cell_type": "markdown",
   "id": "51a07ea0-5515-4bc2-9d6f-765c286d6d77",
   "metadata": {},
   "source": [
    "**itoken_deposit:** update itkn amount\n",
    "* todo: decompose into granular sub-routines"
   ]
  },
  {
   "cell_type": "code",
   "execution_count": 13,
   "id": "518a341e-e10d-4285-9d35-34d869f917be",
   "metadata": {},
   "outputs": [
    {
     "name": "stdout",
     "output_type": "stream",
     "text": [
      "Exchange ETH/TKN (LP1)\n",
      "Coins: ETH/TKN\n",
      "Reserves: ETH = 1000 | TKN = 100000\n",
      "Liquidity: 10000.0 \n",
      "\n",
      "Exchange ETH/iTKN (LP2)\n",
      "Coins: ETH/iTKN\n",
      "Reserves: ETH = 249.625 | iTKN = 24962.5\n",
      "Liquidity: 2496.25 \n",
      "\n"
     ]
    }
   ],
   "source": [
    "percentage = 0.5\n",
    "percent_extract_x = (percentage)*(1997/4000)\n",
    "\n",
    "tkn = ERC20(\"TKN\", \"0x111\")\n",
    "eth = ERC20(\"ETH\", \"0x09\")\n",
    "factory = Factory(\"ETH pool factory\", \"0x2\")\n",
    "lp1 = factory.create_exchange(eth, tkn, symbol=\"LP1\", address=\"0x011\")\n",
    "lp1.add_liquidity(user_nm, eth_amount, tkn_amount, eth_amount, tkn_amount)\n",
    "lp1.info()\n",
    "\n",
    "itkn_amount = percent_extract_x*lp1.reserve1\n",
    "eth_amount1 = percent_extract_x*lp1.reserve0\n",
    "\n",
    "itkn = ERC20(\"iTKN\", \"0x111\")\n",
    "eth = ERC20(\"ETH\", \"0x09\")\n",
    "factory = Factory(\"ETH pool factory\", \"0x2\")\n",
    "lp2 = factory.create_exchange(eth, itkn, symbol=\"LP2\", address=\"0x012\")\n",
    "lp2.add_liquidity(user_nm, eth_amount1, itkn_amount, eth_amount1, itkn_amount)\n",
    "lp2.info()"
   ]
  },
  {
   "cell_type": "code",
   "execution_count": 14,
   "id": "e15b80c0-74e0-4eb4-8715-880d525369e0",
   "metadata": {},
   "outputs": [
    {
     "name": "stdout",
     "output_type": "stream",
     "text": [
      "Exchange ETH/TKN (LP1)\n",
      "Coins: ETH/TKN\n",
      "Reserves: ETH = 999.00399301896 | TKN = 100100\n",
      "Liquidity: 10000.0 \n",
      "\n",
      "Exchange ETH/iTKN (LP2)\n",
      "Coins: ETH/iTKN\n",
      "Reserves: ETH = 249.625 | iTKN = 24987.4625\n",
      "Liquidity: 2497.4978131246685 \n",
      "\n"
     ]
    }
   ],
   "source": [
    "#add_liquidity(lp1, eth, user_nm, 10)\n",
    "swap(lp1, tkn, user_nm, 100)\n",
    "itoken_deposit(percentage, lp1, lp2, user_nm, itoken = itkn)\n",
    "\n",
    "lp1.info()\n",
    "lp2.info()"
   ]
  },
  {
   "cell_type": "markdown",
   "id": "d0780faf-c7cd-49ed-bcf0-e3e736467510",
   "metadata": {},
   "source": [
    "**swap_deposit(tkn)**: deposit LP with only tkn\n",
    "* deposit desired token -> perform 50% swap ->  perform 50/50 deposit"
   ]
  },
  {
   "cell_type": "code",
   "execution_count": 15,
   "id": "dd65eee3-b8d0-4b83-8c04-cf99ea55fcc4",
   "metadata": {},
   "outputs": [
    {
     "name": "stdout",
     "output_type": "stream",
     "text": [
      "Exchange ETH/TKN (LP)\n",
      "Coins: ETH/TKN\n",
      "Reserves: ETH = 1000 | TKN = 100000\n",
      "Liquidity: 10000.0 \n",
      "\n",
      "Exchange ETH/TKN (LP)\n",
      "Coins: ETH/TKN\n",
      "Reserves: ETH = 1000.0 | TKN = 100099.874925\n",
      "Liquidity: 10004.984999999999 \n",
      "\n"
     ]
    }
   ],
   "source": [
    "tkn = ERC20(\"TKN\", \"0x111\")\n",
    "eth = ERC20(\"ETH\", \"0x09\")\n",
    "factory = Factory(\"ETH pool factory\", \"0x2\")\n",
    "lp = factory.create_exchange(eth, tkn, symbol=\"LP\", address=\"0x011\")\n",
    "lp.add_liquidity(user_nm, eth_amount, tkn_amount, eth_amount, tkn_amount)\n",
    "lp.info()\n",
    "\n",
    "swap_deposit(lp, tkn, user_nm, 100)\n",
    "lp.info() "
   ]
  },
  {
   "cell_type": "markdown",
   "id": "ab3beefc-0392-4ea4-a6f2-6151eda3ea5e",
   "metadata": {},
   "source": [
    "**swap_deposit(eth)**: deposit LP with only eth\n",
    "* deposit desired token -> perform 50% swap ->  perform 50/50 deposit"
   ]
  },
  {
   "cell_type": "code",
   "execution_count": 16,
   "id": "e411ba09-3688-4998-94b4-c0453f4700d9",
   "metadata": {},
   "outputs": [
    {
     "name": "stdout",
     "output_type": "stream",
     "text": [
      "Exchange ETH/TKN (LP)\n",
      "Coins: ETH/TKN\n",
      "Reserves: ETH = 1000 | TKN = 100000\n",
      "Liquidity: 10000.0 \n",
      "\n",
      "Exchange ETH/TKN (LP)\n",
      "Coins: ETH/TKN\n",
      "Reserves: ETH = 1000.99874925 | TKN = 100000.0\n",
      "Liquidity: 10004.984999999999 \n",
      "\n"
     ]
    }
   ],
   "source": [
    "tkn = ERC20(\"TKN\", \"0x111\")\n",
    "eth = ERC20(\"ETH\", \"0x09\")\n",
    "factory = Factory(\"ETH pool factory\", \"0x2\")\n",
    "lp = factory.create_exchange(eth, tkn, symbol=\"LP\", address=\"0x011\")\n",
    "lp.add_liquidity(user_nm, eth_amount, tkn_amount, eth_amount, tkn_amount)\n",
    "lp.info()\n",
    "\n",
    "amount_out = swap_deposit(lp, eth, user_nm, 1)\n",
    "lp.info()"
   ]
  },
  {
   "cell_type": "markdown",
   "id": "b28f8cfb-5073-4314-9341-17b30bde3886",
   "metadata": {},
   "source": [
    "**withdraw_swap(eth)**: withdraw LP based upon expected amount of eth\n",
    "* perform 50/50 withdraw  -> swap remaining 50% -> return desired token"
   ]
  },
  {
   "cell_type": "code",
   "execution_count": 17,
   "id": "90fa05cd-f102-4ccc-bf7f-38cfb6d90fe6",
   "metadata": {},
   "outputs": [
    {
     "name": "stdout",
     "output_type": "stream",
     "text": [
      "Exchange ETH/TKN (LP)\n",
      "Coins: ETH/TKN\n",
      "Reserves: ETH = 1000 | TKN = 100000\n",
      "Liquidity: 10000.0 \n",
      "\n",
      "Exchange ETH/TKN (LP)\n",
      "Coins: ETH/TKN\n",
      "Reserves: ETH = 999.0017485026227 | TKN = 100000.0\n",
      "Liquidity: 9995.0 \n",
      "\n"
     ]
    }
   ],
   "source": [
    "tkn = ERC20(\"TKN\", \"0x111\")\n",
    "eth = ERC20(\"ETH\", \"0x09\")\n",
    "factory = Factory(\"ETH pool factory\", \"0x2\")\n",
    "lp = factory.create_exchange(eth, tkn, symbol=\"LP\", address=\"0x011\")\n",
    "lp.add_liquidity(user_nm, eth_amount, tkn_amount, eth_amount, tkn_amount)\n",
    "lp.info()\n",
    "\n",
    "expected_amount_out = withdraw_swap(lp, eth, user_nm, 1)\n",
    "lp.info()"
   ]
  },
  {
   "cell_type": "markdown",
   "id": "2a60bf10-f474-4224-b02b-127dcd77b1d6",
   "metadata": {},
   "source": [
    "**withdraw_swap(tkn)**: withdraw LP based upon expected amount of tkn"
   ]
  },
  {
   "cell_type": "code",
   "execution_count": 18,
   "id": "e6f8a1eb-d1ea-45bd-a6fa-30f206f5c48b",
   "metadata": {},
   "outputs": [
    {
     "name": "stdout",
     "output_type": "stream",
     "text": [
      "Exchange ETH/TKN (LP)\n",
      "Coins: ETH/TKN\n",
      "Reserves: ETH = 1000 | TKN = 100000\n",
      "Liquidity: 10000.0 \n",
      "\n",
      "Exchange ETH/TKN (LP)\n",
      "Coins: ETH/TKN\n",
      "Reserves: ETH = 1000.0 | TKN = 99900.17485026228\n",
      "Liquidity: 9995.0 \n",
      "\n"
     ]
    }
   ],
   "source": [
    "tkn = ERC20(\"TKN\", \"0x111\")\n",
    "eth = ERC20(\"ETH\", \"0x09\")\n",
    "factory = Factory(\"ETH pool factory\", \"0x2\")\n",
    "lp = factory.create_exchange(eth, tkn, symbol=\"LP\", address=\"0x011\")\n",
    "lp.add_liquidity(user_nm, eth_amount, tkn_amount, eth_amount, tkn_amount)\n",
    "lp.info()\n",
    "\n",
    "expected_amount_out = withdraw_swap(lp, tkn, user_nm, 100)\n",
    "lp.info()"
   ]
  },
  {
   "cell_type": "markdown",
   "id": "1763fba6-925b-4ee9-8588-ab62b39450eb",
   "metadata": {},
   "source": [
    "**swap(lp_tkn):** swap lp_tkn for eth"
   ]
  },
  {
   "cell_type": "code",
   "execution_count": 19,
   "id": "66550ca8-0edf-4569-b95b-1e33e833c0f6",
   "metadata": {},
   "outputs": [
    {
     "name": "stdout",
     "output_type": "stream",
     "text": [
      "Exchange ETH/TKN (LP1)\n",
      "Coins: ETH/TKN\n",
      "Reserves: ETH = 1000 | TKN = 100000\n",
      "Liquidity: 10000.0 \n",
      "\n",
      "Exchange ETHTKN-LP/TKN (LP2)\n",
      "Coins: ETHTKN-LP/TKN\n",
      "Reserves: ETHTKN-LP = 10000.0 | TKN = 100000\n",
      "Liquidity: 31622.776601683792 \n",
      "\n",
      "Exchange ETHTKN-LP/TKN (LP2)\n",
      "Coins: ETHTKN-LP/TKN\n",
      "Reserves: ETHTKN-LP = 10100.0 | TKN = 99012.84196560294\n",
      "Liquidity: 31622.776601683792 \n",
      "\n"
     ]
    }
   ],
   "source": [
    "tkn = ERC20(\"TKN\", \"0x111\")\n",
    "eth = ERC20(\"ETH\", \"0x09\")\n",
    "factory = Factory(\"ETH pool factory\", \"0x2\")\n",
    "lp_tkn = factory.create_exchange(eth, tkn, symbol=\"LP1\", address=\"0x011\")\n",
    "lp_tkn.add_liquidity(user_nm, eth_amount, tkn_amount, eth_amount, tkn_amount)\n",
    "lp_tkn.info()\n",
    "\n",
    "tkn2 = ERC20(\"TKN\", \"0x112\")\n",
    "lp_tkn_amount = lp_tkn.total_supply\n",
    "lp2 = factory.create_exchange(lp_tkn, tkn2, symbol=\"LP2\", address=\"0x012\")\n",
    "lp2.add_liquidity(user_nm, lp_tkn_amount, tkn_amount, lp_tkn_amount, tkn_amount)\n",
    "lp2.info()\n",
    "\n",
    "out = swap(lp2, lp_tkn, user_nm, 100)\n",
    "lp2.info()"
   ]
  },
  {
   "cell_type": "markdown",
   "id": "cdb1eb2c-0c6d-4589-ac53-59c5bf5734ab",
   "metadata": {},
   "source": [
    "**swap(eth):** swap eth for lp_tkn"
   ]
  },
  {
   "cell_type": "code",
   "execution_count": 20,
   "id": "d695eca9-bf36-4de7-86ce-1a928acfce54",
   "metadata": {},
   "outputs": [
    {
     "name": "stdout",
     "output_type": "stream",
     "text": [
      "Exchange ETH/TKN (LP1)\n",
      "Coins: ETH/TKN\n",
      "Reserves: ETH = 1000 | TKN = 100000\n",
      "Liquidity: 10000.0 \n",
      "\n",
      "Exchange ETHTKN-LP/TKN (LP2)\n",
      "Coins: ETHTKN-LP/TKN\n",
      "Reserves: ETHTKN-LP = 10000.0 | TKN = 100000\n",
      "Liquidity: 31622.776601683792 \n",
      "\n",
      "Exchange ETHTKN-LP/TKN (LP2)\n",
      "Coins: ETHTKN-LP/TKN\n",
      "Reserves: ETHTKN-LP = 9990.039930189601 | TKN = 100100\n",
      "Liquidity: 31622.776601683792 \n",
      "\n"
     ]
    }
   ],
   "source": [
    "tkn = ERC20(\"TKN\", \"0x111\")\n",
    "eth = ERC20(\"ETH\", \"0x09\")\n",
    "factory = Factory(\"ETH pool factory\", \"0x2\")\n",
    "lp_tkn = factory.create_exchange(eth, tkn, symbol=\"LP1\", address=\"0x011\")\n",
    "lp_tkn.add_liquidity(user_nm, eth_amount, tkn_amount, eth_amount, tkn_amount)\n",
    "lp_tkn.info()\n",
    "\n",
    "tkn2 = ERC20(\"TKN\", \"0x112\")\n",
    "lp_tkn_amount = lp_tkn.total_supply\n",
    "lp2 = factory.create_exchange(lp_tkn, tkn2, symbol=\"LP2\", address=\"0x012\")\n",
    "lp2.add_liquidity(user_nm, lp_tkn_amount, tkn_amount, lp_tkn_amount, tkn_amount)\n",
    "lp2.info()\n",
    "\n",
    "out = swap(lp2, tkn2, user_nm, 100)\n",
    "lp2.info()"
   ]
  },
  {
   "cell_type": "markdown",
   "id": "66039ec9-86e7-49ec-9e0a-519e395d6418",
   "metadata": {},
   "source": [
    "**add_liquidity(tkn2)**: add LP based on tkn2 "
   ]
  },
  {
   "cell_type": "code",
   "execution_count": 21,
   "id": "b06a9541-c36a-4d94-b401-8a075bf601e7",
   "metadata": {},
   "outputs": [
    {
     "name": "stdout",
     "output_type": "stream",
     "text": [
      "Exchange ETH/TKN (LP1)\n",
      "Coins: ETH/TKN\n",
      "Reserves: ETH = 1000 | TKN = 100000\n",
      "Liquidity: 10000.0 \n",
      "\n",
      "Exchange ETHTKN-LP/TKN (LP2)\n",
      "Coins: ETHTKN-LP/TKN\n",
      "Reserves: ETHTKN-LP = 10000.0 | TKN = 100000\n",
      "Liquidity: 31622.776601683792 \n",
      "\n",
      "Exchange ETHTKN-LP/TKN (LP2)\n",
      "Coins: ETHTKN-LP/TKN\n",
      "Reserves: ETHTKN-LP = 10001.0 | TKN = 100010.0\n",
      "Liquidity: 31625.93887934396 \n",
      "\n"
     ]
    }
   ],
   "source": [
    "tkn = ERC20(\"TKN\", \"0x111\")\n",
    "eth = ERC20(\"ETH\", \"0x09\")\n",
    "factory = Factory(\"ETH pool factory\", \"0x2\")\n",
    "lp_tkn = factory.create_exchange(eth, tkn, symbol=\"LP1\", address=\"0x011\")\n",
    "lp_tkn.add_liquidity(user_nm, eth_amount, tkn_amount, eth_amount, tkn_amount)\n",
    "lp_tkn.info()\n",
    "\n",
    "tkn2 = ERC20(\"TKN\", \"0x112\")\n",
    "lp_tkn_amount = lp_tkn.total_supply\n",
    "lp2 = factory.create_exchange(lp_tkn, tkn2, symbol=\"LP2\", address=\"0x012\")\n",
    "lp2.add_liquidity(user_nm, lp_tkn_amount, tkn_amount, lp_tkn_amount, tkn_amount)\n",
    "lp2.info()\n",
    "\n",
    "add_liquidity(lp2, tkn2, user_nm, 10)\n",
    "lp2.info()"
   ]
  },
  {
   "cell_type": "markdown",
   "id": "ac2b121d-71df-478f-86c3-72d24764a182",
   "metadata": {},
   "source": [
    "**add_liquidity(lp_tkn)**: add LP based on lp_tkn "
   ]
  },
  {
   "cell_type": "code",
   "execution_count": 22,
   "id": "abf5c45d-5691-40cf-a7ac-bbb202c4f871",
   "metadata": {},
   "outputs": [
    {
     "name": "stdout",
     "output_type": "stream",
     "text": [
      "Exchange ETH/TKN (LP1)\n",
      "Coins: ETH/TKN\n",
      "Reserves: ETH = 1000 | TKN = 100000\n",
      "Liquidity: 10000.0 \n",
      "\n",
      "Exchange ETHTKN-LP/TKN (LP2)\n",
      "Coins: ETHTKN-LP/TKN\n",
      "Reserves: ETHTKN-LP = 10000.0 | TKN = 100000\n",
      "Liquidity: 31622.776601683792 \n",
      "\n",
      "Exchange ETHTKN-LP/TKN (LP2)\n",
      "Coins: ETHTKN-LP/TKN\n",
      "Reserves: ETHTKN-LP = 10010.0 | TKN = 100100.0\n",
      "Liquidity: 31654.399378285478 \n",
      "\n"
     ]
    }
   ],
   "source": [
    "tkn = ERC20(\"TKN\", \"0x111\")\n",
    "eth = ERC20(\"ETH\", \"0x09\")\n",
    "factory = Factory(\"ETH pool factory\", \"0x2\")\n",
    "lp_tkn = factory.create_exchange(eth, tkn, symbol=\"LP1\", address=\"0x011\")\n",
    "lp_tkn.add_liquidity(user_nm, eth_amount, tkn_amount, eth_amount, tkn_amount)\n",
    "lp_tkn.info()\n",
    "\n",
    "tkn2 = ERC20(\"TKN\", \"0x112\")\n",
    "lp_tkn_amount = lp_tkn.total_supply\n",
    "lp2 = factory.create_exchange(lp_tkn, tkn2, symbol=\"LP2\", address=\"0x012\")\n",
    "lp2.add_liquidity(user_nm, lp_tkn_amount, tkn_amount, lp_tkn_amount, tkn_amount)\n",
    "lp2.info()\n",
    "\n",
    "add_liquidity(lp2, lp_tkn, user_nm, 10)\n",
    "lp2.info()"
   ]
  },
  {
   "cell_type": "markdown",
   "id": "6b934c73-9ed2-4d6b-9cff-66704cbb89d7",
   "metadata": {},
   "source": [
    "**remove_liquidity(tkn2)**: remove LP based on tkn2 "
   ]
  },
  {
   "cell_type": "code",
   "execution_count": 23,
   "id": "0f626ff4-5432-4e50-8728-f41cc3d7d45a",
   "metadata": {},
   "outputs": [
    {
     "name": "stdout",
     "output_type": "stream",
     "text": [
      "Exchange ETH/TKN (LP1)\n",
      "Coins: ETH/TKN\n",
      "Reserves: ETH = 1000 | TKN = 100000\n",
      "Liquidity: 10000.0 \n",
      "\n",
      "Exchange ETHTKN-LP/TKN (LP2)\n",
      "Coins: ETHTKN-LP/TKN\n",
      "Reserves: ETHTKN-LP = 1000 | TKN = 1000\n",
      "Liquidity: 1000.0 \n",
      "\n",
      "Exchange ETHTKN-LP/TKN (LP2)\n",
      "Coins: ETHTKN-LP/TKN\n",
      "Reserves: ETHTKN-LP = 990.0 | TKN = 990.0\n",
      "Liquidity: 990.0 \n",
      "\n"
     ]
    }
   ],
   "source": [
    "tkn = ERC20(\"TKN\", \"0x111\")\n",
    "eth = ERC20(\"ETH\", \"0x09\")\n",
    "factory = Factory(\"ETH pool factory\", \"0x2\")\n",
    "lp_tkn = factory.create_exchange(eth, tkn, symbol=\"LP1\", address=\"0x011\")\n",
    "lp_tkn.add_liquidity(user_nm, eth_amount, tkn_amount, eth_amount, tkn_amount)\n",
    "lp_tkn.info()\n",
    "\n",
    "tkn2 = ERC20(\"TKN\", \"0x112\")\n",
    "lp_tkn_amount = 1000\n",
    "lp2 = factory.create_exchange(lp_tkn, tkn2, symbol=\"LP2\", address=\"0x012\")\n",
    "lp2.add_liquidity(user_nm, eth_amount, lp_tkn_amount, eth_amount, lp_tkn_amount)\n",
    "lp2.info()\n",
    "\n",
    "remove_liquidity(lp2, tkn2, user_nm, 10)\n",
    "lp2.info()"
   ]
  },
  {
   "cell_type": "markdown",
   "id": "4fe1350d-2795-4bb3-98a6-fb819d2bef0e",
   "metadata": {},
   "source": [
    "**remove_liquidity(lp_tkn)**: remove LP based on lp_tkn "
   ]
  },
  {
   "cell_type": "code",
   "execution_count": 24,
   "id": "7999b861-8ee1-474f-a201-ffa3565191ca",
   "metadata": {},
   "outputs": [
    {
     "name": "stdout",
     "output_type": "stream",
     "text": [
      "Exchange ETH/TKN (LP1)\n",
      "Coins: ETH/TKN\n",
      "Reserves: ETH = 1000 | TKN = 100000\n",
      "Liquidity: 10000.0 \n",
      "\n",
      "Exchange ETHTKN-LP/TKN (LP2)\n",
      "Coins: ETHTKN-LP/TKN\n",
      "Reserves: ETHTKN-LP = 1000 | TKN = 1000\n",
      "Liquidity: 1000.0 \n",
      "\n",
      "Exchange ETHTKN-LP/TKN (LP2)\n",
      "Coins: ETHTKN-LP/TKN\n",
      "Reserves: ETHTKN-LP = 990.0 | TKN = 990.0\n",
      "Liquidity: 990.0 \n",
      "\n"
     ]
    }
   ],
   "source": [
    "tkn = ERC20(\"TKN\", \"0x111\")\n",
    "eth = ERC20(\"ETH\", \"0x09\")\n",
    "factory = Factory(\"ETH pool factory\", \"0x2\")\n",
    "lp_tkn = factory.create_exchange(eth, tkn, symbol=\"LP1\", address=\"0x011\")\n",
    "lp_tkn.add_liquidity(user_nm, eth_amount, tkn_amount, eth_amount, tkn_amount)\n",
    "lp_tkn.info()\n",
    "\n",
    "tkn2 = ERC20(\"TKN\", \"0x112\")\n",
    "lp_tkn_amount = 1000\n",
    "lp2 = factory.create_exchange(lp_tkn, tkn2, symbol=\"LP2\", address=\"0x012\")\n",
    "lp2.add_liquidity(user_nm, eth_amount, lp_tkn_amount, eth_amount, lp_tkn_amount)\n",
    "lp2.info()\n",
    "\n",
    "remove_liquidity(lp2, lp_tkn, user_nm, 10)\n",
    "lp2.info()"
   ]
  },
  {
   "cell_type": "markdown",
   "id": "fa24c849-7137-49cf-96ac-c50859bcf4dc",
   "metadata": {},
   "source": [
    "**swap_deposit(tkn2)**: deposit LP with only tkn2\n",
    "* deposit desired token -> perform 50% swap ->  perform 50/50 deposit"
   ]
  },
  {
   "cell_type": "code",
   "execution_count": 25,
   "id": "652ef16a-50d3-400e-9f15-acca965f94e0",
   "metadata": {},
   "outputs": [
    {
     "name": "stdout",
     "output_type": "stream",
     "text": [
      "Exchange ETH/TKN (LP1)\n",
      "Coins: ETH/TKN\n",
      "Reserves: ETH = 1000 | TKN = 100000\n",
      "Liquidity: 10000.0 \n",
      "\n",
      "Exchange ETHTKN-LP/TKN (LP2)\n",
      "Coins: ETHTKN-LP/TKN\n",
      "Reserves: ETHTKN-LP = 1000 | TKN = 1000\n",
      "Liquidity: 1000.0 \n",
      "\n",
      "Exchange ETHTKN-LP/TKN (LP2)\n",
      "Coins: ETHTKN-LP/TKN\n",
      "Reserves: ETHTKN-LP = 1000.0 | TKN = 1010.009925\n",
      "Liquidity: 1004.9849999999999 \n",
      "\n"
     ]
    }
   ],
   "source": [
    "tkn = ERC20(\"TKN\", \"0x111\")\n",
    "eth = ERC20(\"ETH\", \"0x09\")\n",
    "factory = Factory(\"ETH pool factory\", \"0x2\")\n",
    "lp_tkn = factory.create_exchange(eth, tkn, symbol=\"LP1\", address=\"0x011\")\n",
    "lp_tkn.add_liquidity(user_nm, eth_amount, tkn_amount, eth_amount, tkn_amount)\n",
    "lp_tkn.info()\n",
    "\n",
    "tkn2 = ERC20(\"TKN\", \"0x112\")\n",
    "lp_tkn_amount = 1000\n",
    "lp2 = factory.create_exchange(lp_tkn, tkn2, symbol=\"LP2\", address=\"0x012\")\n",
    "lp2.add_liquidity(user_nm, eth_amount, lp_tkn_amount, eth_amount, lp_tkn_amount)\n",
    "lp2.info()\n",
    "\n",
    "swap_deposit(lp2, tkn2, user_nm, 10)\n",
    "lp2.info() "
   ]
  },
  {
   "cell_type": "markdown",
   "id": "33201379-82f8-49fb-ad60-42f1d4977cf1",
   "metadata": {},
   "source": [
    "**swap_deposit(lp_tkn)**: deposit LP with only lp_tkn\n",
    "* deposit desired token -> perform 50% swap ->  perform 50/50 deposit"
   ]
  },
  {
   "cell_type": "code",
   "execution_count": 26,
   "id": "f27e9a94-1d19-4d6a-82f4-dbf1caa30fcc",
   "metadata": {},
   "outputs": [
    {
     "name": "stdout",
     "output_type": "stream",
     "text": [
      "Exchange ETH/TKN (LP1)\n",
      "Coins: ETH/TKN\n",
      "Reserves: ETH = 1000 | TKN = 100000\n",
      "Liquidity: 10000.0 \n",
      "\n",
      "Exchange ETHTKN-LP/TKN (LP2)\n",
      "Coins: ETHTKN-LP/TKN\n",
      "Reserves: ETHTKN-LP = 1000 | TKN = 1000\n",
      "Liquidity: 1000.0 \n",
      "\n",
      "Exchange ETHTKN-LP/TKN (LP2)\n",
      "Coins: ETHTKN-LP/TKN\n",
      "Reserves: ETHTKN-LP = 1010.009925 | TKN = 1000.0\n",
      "Liquidity: 1004.9849999999999 \n",
      "\n"
     ]
    }
   ],
   "source": [
    "tkn = ERC20(\"TKN\", \"0x111\")\n",
    "eth = ERC20(\"ETH\", \"0x09\")\n",
    "factory = Factory(\"ETH pool factory\", \"0x2\")\n",
    "lp_tkn = factory.create_exchange(eth, tkn, symbol=\"LP1\", address=\"0x011\")\n",
    "lp_tkn.add_liquidity(user_nm, eth_amount, tkn_amount, eth_amount, tkn_amount)\n",
    "lp_tkn.info()\n",
    "\n",
    "tkn2 = ERC20(\"TKN\", \"0x112\")\n",
    "lp_tkn_amount = 1000\n",
    "lp2 = factory.create_exchange(lp_tkn, tkn2, symbol=\"LP2\", address=\"0x012\")\n",
    "lp2.add_liquidity(user_nm, eth_amount, lp_tkn_amount, eth_amount, lp_tkn_amount)\n",
    "lp2.info()\n",
    "\n",
    "swap_deposit(lp2, lp_tkn, user_nm, 10)\n",
    "lp2.info() "
   ]
  },
  {
   "cell_type": "markdown",
   "id": "f0f7c60d-b4ea-4568-aafd-ad232bf6edbb",
   "metadata": {},
   "source": [
    "**withdraw_swap(tkn2)**: withdraw LP based upon expected amount of tkn2\n",
    "* perform 50/50 withdraw  -> swap remaining 50% -> return desired token"
   ]
  },
  {
   "cell_type": "code",
   "execution_count": 27,
   "id": "8fc42ffe-053b-4394-8cc4-e5f2a420549c",
   "metadata": {},
   "outputs": [
    {
     "name": "stdout",
     "output_type": "stream",
     "text": [
      "Exchange ETH/TKN (LP1)\n",
      "Coins: ETH/TKN\n",
      "Reserves: ETH = 1000 | TKN = 100000\n",
      "Liquidity: 10000.0 \n",
      "\n",
      "Exchange ETHTKN-LP/TKN (LP2)\n",
      "Coins: ETHTKN-LP/TKN\n",
      "Reserves: ETHTKN-LP = 1000 | TKN = 1000\n",
      "Liquidity: 1000.0 \n",
      "\n",
      "Exchange ETHTKN-LP/TKN (LP2)\n",
      "Coins: ETHTKN-LP/TKN\n",
      "Reserves: ETHTKN-LP = 1000.0 | TKN = 990.0398505977589\n",
      "Liquidity: 995.0 \n",
      "\n"
     ]
    }
   ],
   "source": [
    "tkn = ERC20(\"TKN\", \"0x111\")\n",
    "eth = ERC20(\"ETH\", \"0x09\")\n",
    "factory = Factory(\"ETH pool factory\", \"0x2\")\n",
    "lp_tkn = factory.create_exchange(eth, tkn, symbol=\"LP1\", address=\"0x011\")\n",
    "lp_tkn.add_liquidity(user_nm, eth_amount, tkn_amount, eth_amount, tkn_amount)\n",
    "lp_tkn.info()\n",
    "\n",
    "tkn2 = ERC20(\"TKN\", \"0x112\")\n",
    "lp_tkn_amount = 1000\n",
    "lp2 = factory.create_exchange(lp_tkn, tkn2, symbol=\"LP2\", address=\"0x012\")\n",
    "lp2.add_liquidity(user_nm, eth_amount, lp_tkn_amount, eth_amount, lp_tkn_amount)\n",
    "lp2.info()\n",
    "\n",
    "withdraw_swap(lp2, tkn2, user_nm, 10)\n",
    "lp2.info() "
   ]
  },
  {
   "cell_type": "markdown",
   "id": "715e626c-33c2-4f4d-8533-b114b960b30b",
   "metadata": {},
   "source": [
    "**withdraw_swap(lp_tkn)**: withdraw LP based upon expected amount of tkn2\n",
    "* perform 50/50 withdraw  -> swap remaining 50% -> return desired token"
   ]
  },
  {
   "cell_type": "code",
   "execution_count": 28,
   "id": "20f30955-2980-4dd4-bedf-efaa1611b87f",
   "metadata": {},
   "outputs": [
    {
     "name": "stdout",
     "output_type": "stream",
     "text": [
      "Exchange ETH/TKN (LP1)\n",
      "Coins: ETH/TKN\n",
      "Reserves: ETH = 1000 | TKN = 100000\n",
      "Liquidity: 10000.0 \n",
      "\n",
      "Exchange ETHTKN-LP/TKN (LP2)\n",
      "Coins: ETHTKN-LP/TKN\n",
      "Reserves: ETHTKN-LP = 1000 | TKN = 1000\n",
      "Liquidity: 1000.0 \n",
      "\n",
      "Exchange ETHTKN-LP/TKN (LP2)\n",
      "Coins: ETHTKN-LP/TKN\n",
      "Reserves: ETHTKN-LP = 990.0398505977589 | TKN = 1000.0\n",
      "Liquidity: 995.0 \n",
      "\n"
     ]
    }
   ],
   "source": [
    "tkn = ERC20(\"TKN\", \"0x111\")\n",
    "eth = ERC20(\"ETH\", \"0x09\")\n",
    "factory = Factory(\"ETH pool factory\", \"0x2\")\n",
    "lp_tkn = factory.create_exchange(eth, tkn, symbol=\"LP1\", address=\"0x011\")\n",
    "lp_tkn.add_liquidity(user_nm, eth_amount, tkn_amount, eth_amount, tkn_amount)\n",
    "lp_tkn.info()\n",
    "\n",
    "tkn2 = ERC20(\"TKN\", \"0x112\")\n",
    "lp_tkn_amount = 1000\n",
    "lp2 = factory.create_exchange(lp_tkn, tkn2, symbol=\"LP2\", address=\"0x012\")\n",
    "lp2.add_liquidity(user_nm, eth_amount, lp_tkn_amount, eth_amount, lp_tkn_amount)\n",
    "lp2.info()\n",
    "\n",
    "withdraw_swap(lp2, lp_tkn, user_nm, 10)\n",
    "lp2.info() "
   ]
  },
  {
   "cell_type": "markdown",
   "id": "f48b3d9a-b8c6-49ed-843a-bc635a6a70d1",
   "metadata": {},
   "source": [
    "**itoken_deposit:** update itkn amount"
   ]
  },
  {
   "cell_type": "code",
   "execution_count": 29,
   "id": "39819492-00c2-4ed5-a8fd-5eb9baccb49c",
   "metadata": {},
   "outputs": [
    {
     "name": "stdout",
     "output_type": "stream",
     "text": [
      "Exchange ETH/TKN (LP_TKN)\n",
      "Coins: ETH/TKN\n",
      "Reserves: ETH = 1000 | TKN = 100000\n",
      "Liquidity: 10000.0 \n",
      "\n",
      "Exchange ETHTKN-LP/TKN (LP1)\n",
      "Coins: ETHTKN-LP/TKN\n",
      "Reserves: ETHTKN-LP = 1000 | TKN = 1000\n",
      "Liquidity: 1000.0 \n",
      "\n",
      "Exchange ETH/iTKN (LP2)\n",
      "Coins: ETH/iTKN\n",
      "Reserves: ETH = 249.625 | iTKN = 249.625\n",
      "Liquidity: 249.625 \n",
      "\n"
     ]
    }
   ],
   "source": [
    "percentage = 0.5\n",
    "percent_extract_x = (percentage)*(1997/4000)\n",
    "\n",
    "tkn1 = ERC20(\"TKN\", \"0x111\")\n",
    "eth = ERC20(\"ETH\", \"0x09\")\n",
    "factory = Factory(\"ETH pool factory\", \"0x2\")\n",
    "lp_tkn = factory.create_exchange(eth, tkn1, symbol=\"LP_TKN\", address=\"0x011\")\n",
    "lp_tkn.add_liquidity(user_nm, eth_amount, tkn_amount, eth_amount, tkn_amount)\n",
    "lp_tkn.info()\n",
    "\n",
    "tkn2 = ERC20(\"TKN\", \"0x112\")\n",
    "lp_tkn_amount = 1000\n",
    "lp1 = factory.create_exchange(lp_tkn, tkn2, symbol=\"LP1\", address=\"0x012\")\n",
    "lp1.add_liquidity(user_nm, eth_amount, lp_tkn_amount, eth_amount, lp_tkn_amount)\n",
    "lp1.info()\n",
    "\n",
    "itkn_amount = percent_extract_x*lp1.reserve1\n",
    "eth_amount1 = percent_extract_x*lp1.reserve0\n",
    "\n",
    "itkn = ERC20(\"iTKN\", \"0x113\")\n",
    "eth = ERC20(\"ETH\", \"0x09\")\n",
    "factory = Factory(\"ETH pool factory\", \"0x2\")\n",
    "lp2 = factory.create_exchange(eth, itkn, symbol=\"LP2\", address=\"0x012\")\n",
    "lp2.add_liquidity(user_nm, eth_amount1, itkn_amount, eth_amount1, itkn_amount)\n",
    "lp2.info()"
   ]
  },
  {
   "cell_type": "code",
   "execution_count": 30,
   "id": "e6da94c3-7636-499d-aac5-f84f577d9f4a",
   "metadata": {},
   "outputs": [
    {
     "name": "stdout",
     "output_type": "stream",
     "text": [
      "Exchange ETHTKN-LP/TKN (LP1)\n",
      "Coins: ETHTKN-LP/TKN\n",
      "Reserves: ETHTKN-LP = 1010.0 | TKN = 1010.0\n",
      "Liquidity: 1010.0 \n",
      "\n",
      "Exchange ETH/iTKN (LP2)\n",
      "Coins: ETH/iTKN\n",
      "Reserves: ETH = 249.625 | iTKN = 252.12125\n",
      "Liquidity: 250.8700201922302 \n",
      "\n"
     ]
    }
   ],
   "source": [
    "add_liquidity(lp1, tkn2, user_nm, 10)\n",
    "itoken_deposit(percentage, lp1, lp2, user_nm, itoken = itkn)\n",
    "lp1.info()\n",
    "lp2.info()"
   ]
  },
  {
   "cell_type": "markdown",
   "id": "0ec890b0-edbe-44dd-9221-76438ad5a4b8",
   "metadata": {},
   "source": [
    "**Dual Token Constant Product (eth)** "
   ]
  },
  {
   "cell_type": "code",
   "execution_count": 31,
   "id": "05811775-ef7b-4606-8bfd-911ecdb5d790",
   "metadata": {},
   "outputs": [
    {
     "name": "stdout",
     "output_type": "stream",
     "text": [
      "Exchange ETH/TKN (LP_TKN)\n",
      "Coins: ETH/TKN\n",
      "Reserves: ETH = 1000 | TKN = 100000\n",
      "Liquidity: 10000.0 \n",
      "\n"
     ]
    }
   ],
   "source": [
    "tkn = ERC20(\"TKN\", \"0x111\")\n",
    "eth = ERC20(\"ETH\", \"0x09\")\n",
    "factory = Factory(\"ETH pool factory\", \"0x2\")\n",
    "lp_tkn = factory.create_exchange(eth, tkn, symbol=\"LP_TKN\", address=\"0x011\")\n",
    "lp_tkn.add_liquidity(user_nm, eth_amount, tkn_amount, eth_amount, tkn_amount)\n",
    "lp_tkn.info()"
   ]
  }
 ],
 "metadata": {
  "kernelspec": {
   "display_name": "Python 3 (ipykernel)",
   "language": "python",
   "name": "python3"
  },
  "language_info": {
   "codemirror_mode": {
    "name": "ipython",
    "version": 3
   },
   "file_extension": ".py",
   "mimetype": "text/x-python",
   "name": "python",
   "nbconvert_exporter": "python",
   "pygments_lexer": "ipython3",
   "version": "3.9.7"
  }
 },
 "nbformat": 4,
 "nbformat_minor": 5
}
