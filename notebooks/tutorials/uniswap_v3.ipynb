{
 "cells": [
  {
   "cell_type": "code",
   "execution_count": 1,
   "id": "186f7163-b9f0-4be2-a25f-4e7a9033ac68",
   "metadata": {},
   "outputs": [],
   "source": [
    "from uniswappy import *\n",
    "from uniswappy.utils.tools.v3 import UniV3Utils "
   ]
  },
  {
   "cell_type": "code",
   "execution_count": 2,
   "id": "323894a8-6738-4d95-9db4-f3c6ce99ac4c",
   "metadata": {},
   "outputs": [
    {
     "name": "stdout",
     "output_type": "stream",
     "text": [
      "Exchange TKN-DAI (LP)\n",
      "Reserves: TKN = 9.996e-15, DAI = 1e-15\n",
      "Liquidity: 3.161e-15 \n",
      "\n"
     ]
    }
   ],
   "source": [
    "user = 'test_user'\n",
    "fee = UniV3Utils.FeeAmount.MEDIUM\n",
    "tick_spacing = UniV3Utils.TICK_SPACINGS[fee]\n",
    "lwr_tick = UniV3Utils.getMinTick(tick_spacing)\n",
    "upr_tick = UniV3Utils.getMaxTick(tick_spacing)\n",
    "init_price = UniV3Utils.encodePriceSqrt(1, 10)\n",
    "\n",
    "tkn = ERC20(\"TKN\", \"0x111\")\n",
    "dai = ERC20(\"DAI\", \"0x09\")\n",
    "\n",
    "exchg_data = UniswapExchangeData(tkn0 = tkn, tkn1 = dai, symbol=\"LP\", \n",
    "                                   address=\"0x011\", version = 'V3', \n",
    "                                   tick_spacing = tick_spacing, \n",
    "                                   fee = fee)\n",
    "\n",
    "factory = UniswapFactory(\"TKN pool factory\", \"0x2\")\n",
    "lp = factory.deploy(exchg_data)\n",
    "lp.initialize(init_price)\n",
    "lp.mint(user, lwr_tick, upr_tick, 3161)\n",
    "lp.summary()"
   ]
  },
  {
   "cell_type": "code",
   "execution_count": 3,
   "id": "be4dab7d-5a03-43f7-8a4a-4b4148fe8880",
   "metadata": {},
   "outputs": [
    {
     "data": {
      "text/plain": [
       "(0, 0, 6, 6)"
      ]
     },
     "execution_count": 3,
     "metadata": {},
     "output_type": "execute_result"
    }
   ],
   "source": [
    "lp.setFeeProtocol(6, 6)"
   ]
  },
  {
   "cell_type": "code",
   "execution_count": 6,
   "id": "c0a65d4f-98a2-4101-8a65-83e43adbc628",
   "metadata": {},
   "outputs": [],
   "source": [
    "tkn = ERC20(\"TKN\", \"0x111\")\n",
    "dai = ERC20(\"DAI\", \"0x09\")\n",
    "\n",
    "token_from_exchange = {}\n",
    "parent_lp = None\n",
    "name = \"ETH pool factory\"\n",
    "address = \"0x2\"\n",
    "\n",
    "factory_struct = FactoryData(token_from_exchange,  parent_lp, name, address)\n",
    "exchg_struct = UniswapExchangeData(tkn0 = tkn, tkn1 = dai, symbol=\"LP\", \n",
    "                                   address=\"0x011\", version = 'V3', \n",
    "                                   tick_spacing = 10, fee = 500)\n",
    "lp = UniswapV3Exchange(factory_struct, exchg_struct)   \n",
    "lp.factory.token_from_exchange[lp.name] = {tkn.token_name: tkn, dai.token_name: dai}"
   ]
  },
  {
   "cell_type": "code",
   "execution_count": 7,
   "id": "db0e845b-81ac-4704-85ec-0e36a07b6da8",
   "metadata": {},
   "outputs": [],
   "source": [
    "lp.initialize(init_price)\n",
    "out = lp.mint(user, lwr_tick, upr_tick, 3160*(10**18))"
   ]
  },
  {
   "cell_type": "code",
   "execution_count": 8,
   "id": "17462d0f-ce00-417b-a129-77b44565fc17",
   "metadata": {},
   "outputs": [
    {
     "name": "stdout",
     "output_type": "stream",
     "text": [
      "Exchange TKN-DAI (LP)\n",
      "Reserves: TKN = 9992.797406132078, DAI = 999.2797406132079\n",
      "Liquidity: 3160.0 \n",
      "\n"
     ]
    }
   ],
   "source": [
    "lp.summary()"
   ]
  },
  {
   "cell_type": "code",
   "execution_count": 9,
   "id": "9ac838f4-1fed-4fcf-9d03-dc0bf314a6b7",
   "metadata": {},
   "outputs": [],
   "source": [
    "out = lp.swapExact1For0(user, 999*(10**18), None)"
   ]
  },
  {
   "cell_type": "code",
   "execution_count": 10,
   "id": "7d509f05-3854-4061-8029-c71557ba84c3",
   "metadata": {},
   "outputs": [
    {
     "name": "stdout",
     "output_type": "stream",
     "text": [
      "Exchange TKN-DAI (LP)\n",
      "Reserves: TKN = 9902.018197965454, DAI = 1998.2797406132079\n",
      "Liquidity: 3160.0 \n",
      "\n"
     ]
    }
   ],
   "source": [
    "lp.summary()"
   ]
  }
 ],
 "metadata": {
  "kernelspec": {
   "display_name": "py3",
   "language": "python",
   "name": "py3"
  },
  "language_info": {
   "codemirror_mode": {
    "name": "ipython",
    "version": 3
   },
   "file_extension": ".py",
   "mimetype": "text/x-python",
   "name": "python",
   "nbconvert_exporter": "python",
   "pygments_lexer": "ipython3",
   "version": "3.10.0rc2"
  }
 },
 "nbformat": 4,
 "nbformat_minor": 5
}
