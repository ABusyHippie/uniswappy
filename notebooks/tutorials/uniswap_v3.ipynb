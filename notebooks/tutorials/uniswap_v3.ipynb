{
 "cells": [
  {
   "cell_type": "code",
   "execution_count": 1,
   "id": "d203f0ec-a448-4c0e-bdd4-8ef7131a3661",
   "metadata": {},
   "outputs": [],
   "source": [
    "import os\n",
    "import copy\n",
    "import numpy as np\n",
    "import pandas as pd\n",
    "import time\n",
    "import datetime\n",
    "import math"
   ]
  },
  {
   "cell_type": "code",
   "execution_count": 2,
   "id": "186f7163-b9f0-4be2-a25f-4e7a9033ac68",
   "metadata": {},
   "outputs": [],
   "source": [
    "from uniswappy import *\n",
    "cwd =  os.getcwd().replace(\"notebooks/tutorials\",\"\")\n",
    "os.chdir(cwd)\n",
    "from python.test.v3.utilities import *"
   ]
  },
  {
   "cell_type": "code",
   "execution_count": 3,
   "id": "323894a8-6738-4d95-9db4-f3c6ce99ac4c",
   "metadata": {},
   "outputs": [],
   "source": [
    "usdc = ERC20(\"USDC\", \"0x111\")\n",
    "dai = ERC20(\"DAI\", \"0x09\")\n",
    "\n",
    "exchg_data = UniswapExchangeData(tkn0 = usdc, tkn1 = dai, symbol=\"LP\", \n",
    "                                   address=\"0x011\", version = 'V3', \n",
    "                                   tick_spacing = TICK_SPACINGS[FeeAmount.MEDIUM], fee = FeeAmount.MEDIUM)\n",
    "\n",
    "factory = UniswapFactory(\"ETH pool factory\", \"0x2\")\n",
    "lp = factory.deploy(exchg_data)\n",
    "lp.initialize(encodePriceSqrt(1, 10))"
   ]
  },
  {
   "cell_type": "code",
   "execution_count": 4,
   "id": "23f08a36-808a-4307-9fba-ecaa1f31387b",
   "metadata": {},
   "outputs": [
    {
     "data": {
      "text/plain": [
       "(9996, 1000)"
      ]
     },
     "execution_count": 4,
     "metadata": {},
     "output_type": "execute_result"
    }
   ],
   "source": [
    "lwr_tick = getMinTick(TICK_SPACINGS[FeeAmount.MEDIUM])\n",
    "upr_tick = getMaxTick(TICK_SPACINGS[FeeAmount.MEDIUM])\n",
    "L = 3161\n",
    "user = 'test_user'\n",
    "\n",
    "res = lp.mint(user, lwr_tick, upr_tick, L)\n",
    "res"
   ]
  },
  {
   "cell_type": "code",
   "execution_count": 6,
   "id": "be4dab7d-5a03-43f7-8a4a-4b4148fe8880",
   "metadata": {},
   "outputs": [
    {
     "data": {
      "text/plain": [
       "(21549, 0)"
      ]
     },
     "execution_count": 6,
     "metadata": {},
     "output_type": "execute_result"
    }
   ],
   "source": [
    "lp.mint(user, -22980, 0, 10000)"
   ]
  },
  {
   "cell_type": "code",
   "execution_count": null,
   "id": "c0a65d4f-98a2-4101-8a65-83e43adbc628",
   "metadata": {},
   "outputs": [],
   "source": [
    "usdc = ERC20(\"USDC\", \"0x111\")\n",
    "dai = ERC20(\"DAI\", \"0x09\")\n",
    "\n",
    "token_from_exchange = {}\n",
    "parent_lp = None\n",
    "name = \"ETH pool factory\"\n",
    "address = \"0x2\"\n",
    "\n",
    "factory_struct = FactoryData(token_from_exchange,  parent_lp, name, address)\n",
    "exchg_struct = UniswapExchangeData(tkn0 = usdc, tkn1 = dai, symbol=\"LP\", \n",
    "                                   address=\"0x011\", version = 'V3', \n",
    "                                   tick_spacing = 10, fee = 500)\n",
    "lp = UniswapV3Exchange(factory_struct, exchg_struct)   \n",
    "lp.factory.token_from_exchange[lp.name] = {usdc.token_name: usdc, dai.token_name: dai}"
   ]
  },
  {
   "cell_type": "code",
   "execution_count": null,
   "id": "db0e845b-81ac-4704-85ec-0e36a07b6da8",
   "metadata": {},
   "outputs": [],
   "source": [
    "lwr_tick = getMinTick(TICK_SPACINGS[FeeAmount.MEDIUM])\n",
    "upr_tick = getMaxTick(TICK_SPACINGS[FeeAmount.MEDIUM])\n",
    "user = 'test_user'\n",
    "\n",
    "lp.initialize(encodePriceSqrt(1, 10))\n",
    "lp.mint(user, lwr_tick, upr_tick, 3161)"
   ]
  },
  {
   "cell_type": "code",
   "execution_count": null,
   "id": "746d6746-2c4e-41fe-8696-6dc8ed5e78d3",
   "metadata": {},
   "outputs": [],
   "source": []
  },
  {
   "cell_type": "code",
   "execution_count": null,
   "id": "cfa8ddb6-2182-487d-ad41-c807b667ffcc",
   "metadata": {},
   "outputs": [],
   "source": [
    "def getSqrtPriceLimitX96(inputToken):\n",
    "    if inputToken == 'Token0':\n",
    "        return 4295128739 + 1\n",
    "    else:\n",
    "        return 4295128739 - 1\n",
    "\n",
    "\n",
    "sqrtPriceLimit = None\n",
    "sqrtPriceLimitX96 = (\n",
    "        sqrtPriceLimit\n",
    "        if sqrtPriceLimit != None\n",
    "        else getSqrtPriceLimitX96('Token0')\n",
    "    )\n",
    "\n",
    "lp.swap(user, True, expandTo18Decimals(2), sqrtPriceLimitX96)"
   ]
  }
 ],
 "metadata": {
  "kernelspec": {
   "display_name": "py3",
   "language": "python",
   "name": "py3"
  },
  "language_info": {
   "codemirror_mode": {
    "name": "ipython",
    "version": 3
   },
   "file_extension": ".py",
   "mimetype": "text/x-python",
   "name": "python",
   "nbconvert_exporter": "python",
   "pygments_lexer": "ipython3",
   "version": "3.10.0rc2"
  }
 },
 "nbformat": 4,
 "nbformat_minor": 5
}
