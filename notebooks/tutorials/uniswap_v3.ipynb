{
 "cells": [
  {
   "cell_type": "code",
   "execution_count": 1,
   "id": "186f7163-b9f0-4be2-a25f-4e7a9033ac68",
   "metadata": {},
   "outputs": [],
   "source": [
    "from uniswappy import *\n",
    "from uniswappy.utils.tools.v3 import UniV3Utils "
   ]
  },
  {
   "cell_type": "code",
   "execution_count": 2,
   "id": "323894a8-6738-4d95-9db4-f3c6ce99ac4c",
   "metadata": {},
   "outputs": [
    {
     "name": "stdout",
     "output_type": "stream",
     "text": [
      "Exchange TKN-DAI (LP)\n",
      "Reserves: TKN = 9996, DAI = 1000\n",
      "Liquidity: 3161 \n",
      "\n"
     ]
    }
   ],
   "source": [
    "user = 'test_user'\n",
    "fee = UniV3Utils.FeeAmount.MEDIUM\n",
    "tick_spacing = UniV3Utils.TICK_SPACINGS[fee]\n",
    "lwr_tick = UniV3Utils.getMinTick(tick_spacing)\n",
    "upr_tick = UniV3Utils.getMaxTick(tick_spacing)\n",
    "init_price = UniV3Utils.encodePriceSqrt(1, 10)\n",
    "\n",
    "tkn = ERC20(\"TKN\", \"0x111\")\n",
    "dai = ERC20(\"DAI\", \"0x09\")\n",
    "\n",
    "exchg_data = UniswapExchangeData(tkn0 = tkn, tkn1 = dai, symbol=\"LP\", \n",
    "                                   address=\"0x011\", version = 'V3', \n",
    "                                   tick_spacing = tick_spacing, \n",
    "                                   fee = fee)\n",
    "\n",
    "factory = UniswapFactory(\"TKN pool factory\", \"0x2\")\n",
    "lp = factory.deploy(exchg_data)\n",
    "lp.initialize(init_price)\n",
    "lp.mint(user, lwr_tick, upr_tick, 3161)\n",
    "lp.summary()"
   ]
  },
  {
   "cell_type": "code",
   "execution_count": 3,
   "id": "be4dab7d-5a03-43f7-8a4a-4b4148fe8880",
   "metadata": {},
   "outputs": [
    {
     "data": {
      "text/plain": [
       "(0, 0, 6, 6)"
      ]
     },
     "execution_count": 3,
     "metadata": {},
     "output_type": "execute_result"
    }
   ],
   "source": [
    "lp.setFeeProtocol(6, 6)"
   ]
  },
  {
   "cell_type": "code",
   "execution_count": 4,
   "id": "c0a65d4f-98a2-4101-8a65-83e43adbc628",
   "metadata": {},
   "outputs": [],
   "source": [
    "usdc = ERC20(\"USDC\", \"0x111\")\n",
    "dai = ERC20(\"DAI\", \"0x09\")\n",
    "\n",
    "token_from_exchange = {}\n",
    "parent_lp = None\n",
    "name = \"ETH pool factory\"\n",
    "address = \"0x2\"\n",
    "\n",
    "factory_struct = FactoryData(token_from_exchange,  parent_lp, name, address)\n",
    "exchg_struct = UniswapExchangeData(tkn0 = usdc, tkn1 = dai, symbol=\"LP\", \n",
    "                                   address=\"0x011\", version = 'V3', \n",
    "                                   tick_spacing = 10, fee = 500)\n",
    "lp = UniswapV3Exchange(factory_struct, exchg_struct)   \n",
    "lp.factory.token_from_exchange[lp.name] = {usdc.token_name: usdc, dai.token_name: dai}"
   ]
  },
  {
   "cell_type": "code",
   "execution_count": 5,
   "id": "db0e845b-81ac-4704-85ec-0e36a07b6da8",
   "metadata": {},
   "outputs": [
    {
     "data": {
      "text/plain": [
       "(9996, 1000)"
      ]
     },
     "execution_count": 5,
     "metadata": {},
     "output_type": "execute_result"
    }
   ],
   "source": [
    "lp.initialize(init_price)\n",
    "lp.mint(user, lwr_tick, upr_tick, 3161)"
   ]
  },
  {
   "cell_type": "code",
   "execution_count": 6,
   "id": "17462d0f-ce00-417b-a129-77b44565fc17",
   "metadata": {},
   "outputs": [
    {
     "name": "stdout",
     "output_type": "stream",
     "text": [
      "Exchange USDC-DAI (LP)\n",
      "Reserves: USDC = 9996, DAI = 1000\n",
      "Liquidity: 3161 \n",
      "\n"
     ]
    }
   ],
   "source": [
    "lp.summary()"
   ]
  },
  {
   "cell_type": "code",
   "execution_count": 7,
   "id": "45302ee4-701a-4acf-b826-605749ab58af",
   "metadata": {},
   "outputs": [],
   "source": [
    "#lp.swapExact1For0(UniV3Utils.expandTo18Decimals(2), user, None)"
   ]
  },
  {
   "cell_type": "code",
   "execution_count": 8,
   "id": "9ac838f4-1fed-4fcf-9d03-dc0bf314a6b7",
   "metadata": {},
   "outputs": [
    {
     "data": {
      "text/plain": [
       "('test_user', 2000000000000000000, -999, 125282752229910, 3161, -681645)"
      ]
     },
     "execution_count": 8,
     "metadata": {},
     "output_type": "execute_result"
    }
   ],
   "source": [
    "lp.swapExact0For1(UniV3Utils.expandTo18Decimals(2), user, None)"
   ]
  },
  {
   "cell_type": "code",
   "execution_count": 9,
   "id": "c3827adb-53a2-4722-8178-62f5e812d536",
   "metadata": {},
   "outputs": [
    {
     "data": {
      "text/plain": [
       "{-461974266283743518: PositionInfo(liquidity=3161, feeGrowthInside0LastX128=0, feeGrowthInside1LastX128=0, tokensOwed0=0, tokensOwed1=0)}"
      ]
     },
     "execution_count": 9,
     "metadata": {},
     "output_type": "execute_result"
    }
   ],
   "source": [
    "lp.positions"
   ]
  },
  {
   "cell_type": "code",
   "execution_count": 10,
   "id": "7d509f05-3854-4061-8029-c71557ba84c3",
   "metadata": {},
   "outputs": [
    {
     "name": "stdout",
     "output_type": "stream",
     "text": [
      "Exchange USDC-DAI (LP)\n",
      "Reserves: USDC = 9996, DAI = 1000\n",
      "Liquidity: 3161 \n",
      "\n"
     ]
    }
   ],
   "source": [
    "lp.summary()"
   ]
  },
  {
   "cell_type": "code",
   "execution_count": 11,
   "id": "cfa8ddb6-2182-487d-ad41-c807b667ffcc",
   "metadata": {},
   "outputs": [
    {
     "data": {
      "text/plain": [
       "('test_user', 2000000000000000000, 0, 62641376114955, 3161, -695509)"
      ]
     },
     "execution_count": 11,
     "metadata": {},
     "output_type": "execute_result"
    }
   ],
   "source": [
    "def getSqrtPriceLimitX96(inputToken):\n",
    "    if inputToken == 'Token0':\n",
    "        return 4295128739 + 1\n",
    "    else:\n",
    "        return 4295128739 - 1\n",
    "\n",
    "\n",
    "sqrtPriceLimit = None\n",
    "sqrtPriceLimitX96 = (\n",
    "        sqrtPriceLimit\n",
    "        if sqrtPriceLimit != None\n",
    "        else getSqrtPriceLimitX96('Token0')\n",
    "    )\n",
    "\n",
    "lp.swap(user, True, UniV3Utils.expandTo18Decimals(2), sqrtPriceLimitX96)"
   ]
  }
 ],
 "metadata": {
  "kernelspec": {
   "display_name": "py3",
   "language": "python",
   "name": "py3"
  },
  "language_info": {
   "codemirror_mode": {
    "name": "ipython",
    "version": 3
   },
   "file_extension": ".py",
   "mimetype": "text/x-python",
   "name": "python",
   "nbconvert_exporter": "python",
   "pygments_lexer": "ipython3",
   "version": "3.10.0rc2"
  }
 },
 "nbformat": 4,
 "nbformat_minor": 5
}
