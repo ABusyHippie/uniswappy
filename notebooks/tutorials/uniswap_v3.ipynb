{
 "cells": [
  {
   "cell_type": "markdown",
   "id": "58a1be19-e923-4894-89ec-69d7113e85e0",
   "metadata": {},
   "source": [
    "## Uniswap V3 Example"
   ]
  },
  {
   "cell_type": "code",
   "execution_count": 1,
   "id": "186f7163-b9f0-4be2-a25f-4e7a9033ac68",
   "metadata": {},
   "outputs": [],
   "source": [
    "from uniswappy import *\n",
    "from uniswappy.utils.tools.v3 import UniV3Utils "
   ]
  },
  {
   "cell_type": "markdown",
   "id": "64bbfe25-a302-4bff-bd5d-bcb2865f56ed",
   "metadata": {},
   "source": [
    "### Using GWEI Precision "
   ]
  },
  {
   "cell_type": "code",
   "execution_count": 2,
   "id": "9c48dd37-14f9-448e-8fad-2fd7153057c4",
   "metadata": {},
   "outputs": [
    {
     "name": "stdout",
     "output_type": "stream",
     "text": [
      "Exchange TKN-DAI (LP)\n",
      "Reserves: TKN = 9996, DAI = 1000\n",
      "Liquidity: 3161 \n",
      "\n"
     ]
    }
   ],
   "source": [
    "user = 'user_intro'\n",
    "fee = UniV3Utils.FeeAmount.MEDIUM\n",
    "tick_spacing = UniV3Utils.TICK_SPACINGS[fee]\n",
    "lwr_tick = UniV3Utils.getMinTick(tick_spacing)\n",
    "upr_tick = UniV3Utils.getMaxTick(tick_spacing)\n",
    "init_price = UniV3Utils.encodePriceSqrt(1, 10)\n",
    "\n",
    "tkn = ERC20(\"TKN\", \"0x111\")\n",
    "dai = ERC20(\"DAI\", \"0x09\")\n",
    "\n",
    "exchg_data = UniswapExchangeData(tkn0 = tkn, tkn1 = dai, symbol=\"LP\", \n",
    "                                   address=\"0x011\", version = 'V3', \n",
    "                                   tick_spacing = tick_spacing, \n",
    "                                   precision = UniswapExchangeData.TYPE_GWEI,\n",
    "                                   fee = fee)\n",
    "\n",
    "factory = UniswapFactory(\"TKN pool factory\", \"0x2\")\n",
    "lp = factory.deploy(exchg_data)\n",
    "lp.initialize(init_price)\n",
    "lp.mint(user, lwr_tick, upr_tick, 3161)\n",
    "lp.summary()"
   ]
  },
  {
   "cell_type": "markdown",
   "id": "6518d3cf-00b1-4bcd-93ba-2c45a0626c62",
   "metadata": {},
   "source": [
    "### Using Decimal Precision "
   ]
  },
  {
   "cell_type": "markdown",
   "id": "008623b1-cc77-4882-b239-ea10ad383e30",
   "metadata": {},
   "source": [
    "#### Uni V3: swapExact0For1 (Correct) "
   ]
  },
  {
   "cell_type": "code",
   "execution_count": 3,
   "id": "1d4241af-e188-478d-beb8-6d5226f0913e",
   "metadata": {},
   "outputs": [
    {
     "name": "stdout",
     "output_type": "stream",
     "text": [
      "Exchange TKN-DAI (LP)\n",
      "Reserves: TKN = 10000.0, DAI = 1000.0\n",
      "Liquidity: 3162.2776601683795 \n",
      "\n",
      "Exchange TKN-DAI (LP)\n",
      "Reserves: TKN = 10100.0, DAI = 990.1284196560295\n",
      "Liquidity: 3162.2776601683795 \n",
      "\n",
      "TKN added: 100.0\n",
      "DAI taken: -9.871580343970614\n"
     ]
    }
   ],
   "source": [
    "user = 'user_intro'\n",
    "fee = UniV3Utils.FeeAmount.MEDIUM\n",
    "tick_spacing = UniV3Utils.TICK_SPACINGS[fee]\n",
    "lwr_tick = UniV3Utils.getMinTick(tick_spacing)\n",
    "upr_tick = UniV3Utils.getMaxTick(tick_spacing)\n",
    "init_price = UniV3Utils.encodePriceSqrt(1, 10)\n",
    "\n",
    "tkn = ERC20(\"TKN\", \"0x111\")\n",
    "dai = ERC20(\"DAI\", \"0x09\")\n",
    "\n",
    "exchg_data = UniswapExchangeData(tkn0 = tkn, tkn1 = dai, symbol=\"LP\", \n",
    "                                   address=\"0x011\", version = 'V3', \n",
    "                                   tick_spacing = tick_spacing, \n",
    "                                   fee = fee)\n",
    "\n",
    "factory = UniswapFactory(\"TKN pool factory\", \"0x2\")\n",
    "lp = factory.deploy(exchg_data)\n",
    "lp.initialize(init_price)\n",
    "out = lp.mint(user, lwr_tick, upr_tick, 3162.2776601683795)\n",
    "lp.summary()\n",
    "\n",
    "out = lp.swapExact0For1(user, 100, None)\n",
    "lp.summary()\n",
    "\n",
    "print(f'{tkn.token_name} added: {lp.gwei2dec(out[1])}')\n",
    "print(f'{dai.token_name} taken: {lp.gwei2dec(out[2])}')"
   ]
  },
  {
   "cell_type": "markdown",
   "id": "8f2073f3-1cb4-4213-9366-680532f2eb81",
   "metadata": {},
   "source": [
    "#### Uni V2: Comparison Check"
   ]
  },
  {
   "cell_type": "code",
   "execution_count": 4,
   "id": "64e20bdc-c91f-45ac-a91a-bd576ae3a485",
   "metadata": {},
   "outputs": [
    {
     "name": "stdout",
     "output_type": "stream",
     "text": [
      "Exchange TKN-DAI (LP)\n",
      "Reserves: TKN = 10000, DAI = 1000\n",
      "Liquidity: 3162.2776601683795 \n",
      "\n",
      "Exchange TKN-DAI (LP)\n",
      "Reserves: TKN = 10100, DAI = 990.1284196560293\n",
      "Liquidity: 3162.2776601683795 \n",
      "\n"
     ]
    }
   ],
   "source": [
    "tkn = ERC20(\"TKN\", \"0x111\")\n",
    "dai = ERC20(\"DAI\", \"0x09\")\n",
    "exchg_data = UniswapExchangeData(tkn0 = tkn, tkn1 = dai, symbol=\"LP\", address=\"0x011\")\n",
    "\n",
    "factory = UniswapFactory(\"ETH pool factory\", \"0x2\")\n",
    "lp = factory.deploy(exchg_data)\n",
    "lp.add_liquidity(user, 10000, 1000, 10000, 1000)\n",
    "lp.summary()\n",
    "\n",
    "out = Swap().apply(lp, tkn, user, 100)\n",
    "lp.summary()"
   ]
  },
  {
   "cell_type": "markdown",
   "id": "3ca92278-64f2-4ed2-aabb-6cf5102193ed",
   "metadata": {},
   "source": [
    "#### Uni V3: swap0ForExact1 (Correct) "
   ]
  },
  {
   "cell_type": "code",
   "execution_count": 5,
   "id": "71b549f9-e878-46b4-9782-0bc78c32443f",
   "metadata": {},
   "outputs": [
    {
     "name": "stdout",
     "output_type": "stream",
     "text": [
      "Exchange TKN-DAI (LP)\n",
      "Reserves: TKN = 10000.0, DAI = 1000.0\n",
      "Liquidity: 3162.2776601683795 \n",
      "\n",
      "Exchange TKN-DAI (LP)\n",
      "Reserves: TKN = 11114.454474534716, DAI = 900.0\n",
      "Liquidity: 3162.2776601683795 \n",
      "\n",
      "TKN added: 1114.4544745347152\n",
      "DAI taken: -100.0\n"
     ]
    }
   ],
   "source": [
    "user = 'user_intro'\n",
    "fee = UniV3Utils.FeeAmount.MEDIUM\n",
    "tick_spacing = UniV3Utils.TICK_SPACINGS[fee]\n",
    "lwr_tick = UniV3Utils.getMinTick(tick_spacing)\n",
    "upr_tick = UniV3Utils.getMaxTick(tick_spacing)\n",
    "init_price = UniV3Utils.encodePriceSqrt(1, 10)\n",
    "\n",
    "tkn = ERC20(\"TKN\", \"0x111\")\n",
    "dai = ERC20(\"DAI\", \"0x09\")\n",
    "\n",
    "exchg_data = UniswapExchangeData(tkn0 = tkn, tkn1 = dai, symbol=\"LP\", \n",
    "                                   address=\"0x011\", version = 'V3', \n",
    "                                   tick_spacing = tick_spacing, \n",
    "                                   fee = fee)\n",
    "\n",
    "factory = UniswapFactory(\"TKN pool factory\", \"0x2\")\n",
    "lp = factory.deploy(exchg_data)\n",
    "lp.initialize(init_price)\n",
    "out = lp.mint(user, lwr_tick, upr_tick, 3162.2776601683795)\n",
    "lp.summary()\n",
    "\n",
    "out = lp.swap0ForExact1(user, 100, None)\n",
    "lp.summary()\n",
    "\n",
    "print(f'{tkn.token_name} added: {lp.gwei2dec(out[1])}')\n",
    "print(f'{dai.token_name} taken: {lp.gwei2dec(out[2])}')"
   ]
  },
  {
   "cell_type": "markdown",
   "id": "2353f8ce-2f2c-4e13-a9ff-d2fa47aa9817",
   "metadata": {},
   "source": [
    "#### Uni V2: Comparison Check "
   ]
  },
  {
   "cell_type": "code",
   "execution_count": 6,
   "id": "8ae514d8-ede3-4de0-929f-e9ffcf71e4d2",
   "metadata": {},
   "outputs": [
    {
     "name": "stdout",
     "output_type": "stream",
     "text": [
      "Exchange TKN-DAI (LP)\n",
      "Reserves: TKN = 10000, DAI = 1000\n",
      "Liquidity: 3162.2776601683795 \n",
      "\n",
      "Exchange TKN-DAI (LP)\n",
      "Reserves: TKN = 11114.454474534716, DAI = 900.0\n",
      "Liquidity: 3162.2776601683795 \n",
      "\n"
     ]
    }
   ],
   "source": [
    "tkn = ERC20(\"TKN\", \"0x111\")\n",
    "dai = ERC20(\"DAI\", \"0x09\")\n",
    "exchg_data = UniswapExchangeData(tkn0 = tkn, tkn1 = dai, symbol=\"LP\", address=\"0x011\")\n",
    "\n",
    "factory = UniswapFactory(\"ETH pool factory\", \"0x2\")\n",
    "lp = factory.deploy(exchg_data)\n",
    "lp.add_liquidity(user, 10000, 1000, 10000, 1000)\n",
    "lp.summary()\n",
    "\n",
    "out = Swap().apply(lp, tkn, user, 1114.4544745347152)\n",
    "lp.summary()"
   ]
  },
  {
   "cell_type": "markdown",
   "id": "18655a1a-3025-4bba-9a00-2b8afd554eda",
   "metadata": {},
   "source": [
    "#### Uni V3: swapExact1For0 (Wrong)"
   ]
  },
  {
   "cell_type": "code",
   "execution_count": 7,
   "id": "d1c28482-9f15-4d6b-b5c4-8e70f9dcb7b7",
   "metadata": {},
   "outputs": [
    {
     "name": "stdout",
     "output_type": "stream",
     "text": [
      "Exchange TKN-DAI (LP)\n",
      "Reserves: TKN = 10000.0, DAI = 1000.0\n",
      "Liquidity: 3162.2776601683795 \n",
      "\n",
      "Exchange TKN-DAI (LP)\n",
      "Reserves: TKN = 9990.12841965603, DAI = 1100.0\n",
      "Liquidity: 3162.2776601683795 \n",
      "\n",
      "TKN taken: -9.871580343970614\n",
      "DAI added: 100.0\n"
     ]
    }
   ],
   "source": [
    "user = 'user_intro'\n",
    "fee = UniV3Utils.FeeAmount.MEDIUM\n",
    "tick_spacing = UniV3Utils.TICK_SPACINGS[fee]\n",
    "lwr_tick = UniV3Utils.getMinTick(tick_spacing)\n",
    "upr_tick = UniV3Utils.getMaxTick(tick_spacing)\n",
    "init_price = UniV3Utils.encodePriceSqrt(1, 10)\n",
    "\n",
    "tkn = ERC20(\"TKN\", \"0x111\")\n",
    "dai = ERC20(\"DAI\", \"0x09\")\n",
    "\n",
    "exchg_data = UniswapExchangeData(tkn0 = tkn, tkn1 = dai, symbol=\"LP\", \n",
    "                                   address=\"0x011\", version = 'V3', \n",
    "                                   tick_spacing = tick_spacing, \n",
    "                                   fee = fee)\n",
    "\n",
    "factory = UniswapFactory(\"TKN pool factory\", \"0x2\")\n",
    "lp = factory.deploy(exchg_data)\n",
    "lp.initialize(init_price)\n",
    "out = lp.mint(user, lwr_tick, upr_tick, 3162.2776601683795)\n",
    "lp.summary()\n",
    "\n",
    "out = lp.swapExact1For0(user, 100, None)\n",
    "lp.summary()\n",
    "\n",
    "print(f'{tkn.token_name} taken: {lp.gwei2dec(out[1])}')\n",
    "print(f'{dai.token_name} added: {lp.gwei2dec(out[2])}')"
   ]
  },
  {
   "cell_type": "markdown",
   "id": "80da25f2-3f35-4ffa-89b7-c561ac25d3a4",
   "metadata": {},
   "source": [
    "#### Uni V2: Comparison Check"
   ]
  },
  {
   "cell_type": "code",
   "execution_count": 8,
   "id": "17ff1c9a-f691-47b7-bede-9490ec22550c",
   "metadata": {},
   "outputs": [
    {
     "name": "stdout",
     "output_type": "stream",
     "text": [
      "Exchange TKN-DAI (LP)\n",
      "Reserves: TKN = 10000, DAI = 1000\n",
      "Liquidity: 3162.2776601683795 \n",
      "\n",
      "Exchange TKN-DAI (LP)\n",
      "Reserves: TKN = 9093.38910611985, DAI = 1100\n",
      "Liquidity: 3162.2776601683795 \n",
      "\n"
     ]
    }
   ],
   "source": [
    "tkn = ERC20(\"TKN\", \"0x111\")\n",
    "dai = ERC20(\"DAI\", \"0x09\")\n",
    "exchg_data = UniswapExchangeData(tkn0 = tkn, tkn1 = dai, symbol=\"LP\", address=\"0x011\")\n",
    "\n",
    "factory = UniswapFactory(\"ETH pool factory\", \"0x2\")\n",
    "lp = factory.deploy(exchg_data)\n",
    "lp.add_liquidity(user, 10000, 1000, 10000, 1000)\n",
    "lp.summary()\n",
    "\n",
    "out = Swap().apply(lp, dai, user, 100)\n",
    "lp.summary()"
   ]
  },
  {
   "cell_type": "markdown",
   "id": "a2b45092-0daf-4499-a142-e4e66ab30c90",
   "metadata": {},
   "source": [
    "#### Uni V3: swap1ForExact0 (Wrong)"
   ]
  },
  {
   "cell_type": "code",
   "execution_count": 9,
   "id": "94590b38-1639-43b6-96c0-1490733dc55b",
   "metadata": {},
   "outputs": [
    {
     "name": "stdout",
     "output_type": "stream",
     "text": [
      "Exchange TKN-DAI (LP)\n",
      "Reserves: TKN = 9995.959683792247, DAI = 999.5959683792247\n",
      "Liquidity: 3161.0 \n",
      "\n",
      "Exchange TKN-DAI (LP)\n",
      "Reserves: TKN = 9895.959683792247, DAI = 2114.100495922563\n",
      "Liquidity: 3161.0 \n",
      "\n",
      "TKN taken: -100.0\n",
      "DAI added: 1114.5045275433383\n"
     ]
    }
   ],
   "source": [
    "user = 'user_intro'\n",
    "fee = UniV3Utils.FeeAmount.MEDIUM\n",
    "tick_spacing = UniV3Utils.TICK_SPACINGS[fee]\n",
    "lwr_tick = UniV3Utils.getMinTick(tick_spacing)\n",
    "upr_tick = UniV3Utils.getMaxTick(tick_spacing)\n",
    "init_price = UniV3Utils.encodePriceSqrt(1, 10)\n",
    "\n",
    "tkn = ERC20(\"TKN\", \"0x111\")\n",
    "dai = ERC20(\"DAI\", \"0x09\")\n",
    "\n",
    "exchg_data = UniswapExchangeData(tkn0 = tkn, tkn1 = dai, symbol=\"LP\", \n",
    "                                   address=\"0x011\", version = 'V3', \n",
    "                                   tick_spacing = tick_spacing, \n",
    "                                   fee = fee)\n",
    "\n",
    "factory = UniswapFactory(\"TKN pool factory\", \"0x2\")\n",
    "lp = factory.deploy(exchg_data)\n",
    "lp.initialize(init_price)\n",
    "out = lp.mint(user, lwr_tick, upr_tick, 3161)\n",
    "lp.summary()\n",
    "\n",
    "out = lp.swap1ForExact0(user, 100, None)\n",
    "lp.summary()\n",
    "\n",
    "print(f'{tkn.token_name} taken: {lp.gwei2dec(out[1])}')\n",
    "print(f'{dai.token_name} added: {lp.gwei2dec(out[2])}')"
   ]
  }
 ],
 "metadata": {
  "kernelspec": {
   "display_name": "py3",
   "language": "python",
   "name": "py3"
  },
  "language_info": {
   "codemirror_mode": {
    "name": "ipython",
    "version": 3
   },
   "file_extension": ".py",
   "mimetype": "text/x-python",
   "name": "python",
   "nbconvert_exporter": "python",
   "pygments_lexer": "ipython3",
   "version": "3.10.0rc2"
  }
 },
 "nbformat": 4,
 "nbformat_minor": 5
}
