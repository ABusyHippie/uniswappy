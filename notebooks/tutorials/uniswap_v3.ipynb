{
 "cells": [
  {
   "cell_type": "code",
   "execution_count": 1,
   "id": "d203f0ec-a448-4c0e-bdd4-8ef7131a3661",
   "metadata": {},
   "outputs": [],
   "source": [
    "import os\n",
    "import copy\n",
    "import numpy as np\n",
    "import pandas as pd\n",
    "import time\n",
    "import datetime\n",
    "import math"
   ]
  },
  {
   "cell_type": "code",
   "execution_count": 2,
   "id": "186f7163-b9f0-4be2-a25f-4e7a9033ac68",
   "metadata": {},
   "outputs": [],
   "source": [
    "from uniswappy import *"
   ]
  },
  {
   "cell_type": "code",
   "execution_count": 3,
   "id": "51385da5-6171-4c6e-9eb1-c1c30695b2e9",
   "metadata": {},
   "outputs": [],
   "source": [
    "def expandTo18Decimals(number):\n",
    "    # Converting to int because python cannot shl on a float\n",
    "    return int(number * 10**18)"
   ]
  },
  {
   "cell_type": "code",
   "execution_count": 4,
   "id": "c0a65d4f-98a2-4101-8a65-83e43adbc628",
   "metadata": {},
   "outputs": [],
   "source": [
    "usdc = ERC20(\"USDC\", \"0x111\")\n",
    "dai = ERC20(\"DAI\", \"0x09\")\n",
    "\n",
    "token_from_exchange = {}\n",
    "parent_lp = None\n",
    "name = \"ETH pool factory\"\n",
    "address = \"0x2\"\n",
    "\n",
    "factory_struct = FactoryData(token_from_exchange,  parent_lp, name, address)\n",
    "exchg_struct = UniswapExchangeData(tkn0 = usdc, tkn1 = dai, symbol=\"LP\", \n",
    "                                   address=\"0x011\", version = 'V3', tick_spacing = 10)\n",
    "lp = UniswapV3Exchange(factory_struct, exchg_struct)   \n",
    "lp.factory.token_from_exchange[lp.name] = {usdc.token_name: usdc, dai.token_name: dai}"
   ]
  },
  {
   "cell_type": "code",
   "execution_count": 5,
   "id": "db0e845b-81ac-4704-85ec-0e36a07b6da8",
   "metadata": {},
   "outputs": [
    {
     "data": {
      "text/plain": [
       "(0, 5981737760509663)"
      ]
     },
     "execution_count": 5,
     "metadata": {},
     "output_type": "execute_result"
    }
   ],
   "source": [
    "p = 79228162514264337593543950336\n",
    "lwr_tick = -120\n",
    "upr_tick = 0\n",
    "L = expandTo18Decimals(1)\n",
    "user = 'test_user'\n",
    "\n",
    "#lp.initialize(p)\n",
    "lp.mint(user, lwr_tick, upr_tick, L)"
   ]
  },
  {
   "cell_type": "code",
   "execution_count": 7,
   "id": "cfa8ddb6-2182-487d-ad41-c807b667ffcc",
   "metadata": {},
   "outputs": [
    {
     "ename": "AssertionError",
     "evalue": "SPL",
     "output_type": "error",
     "traceback": [
      "\u001b[0;31m---------------------------------------------------------------------------\u001b[0m",
      "\u001b[0;31mAssertionError\u001b[0m                            Traceback (most recent call last)",
      "Cell \u001b[0;32mIn[7], line 15\u001b[0m\n\u001b[1;32m      8\u001b[0m sqrtPriceLimit \u001b[38;5;241m=\u001b[39m \u001b[38;5;28;01mNone\u001b[39;00m\n\u001b[1;32m      9\u001b[0m sqrtPriceLimitX96 \u001b[38;5;241m=\u001b[39m (\n\u001b[1;32m     10\u001b[0m         sqrtPriceLimit\n\u001b[1;32m     11\u001b[0m         \u001b[38;5;28;01mif\u001b[39;00m sqrtPriceLimit \u001b[38;5;241m!=\u001b[39m \u001b[38;5;28;01mNone\u001b[39;00m\n\u001b[1;32m     12\u001b[0m         \u001b[38;5;28;01melse\u001b[39;00m getSqrtPriceLimitX96(\u001b[38;5;124m'\u001b[39m\u001b[38;5;124mToken0\u001b[39m\u001b[38;5;124m'\u001b[39m)\n\u001b[1;32m     13\u001b[0m     )\n\u001b[0;32m---> 15\u001b[0m \u001b[43mlp\u001b[49m\u001b[38;5;241;43m.\u001b[39;49m\u001b[43mswap\u001b[49m\u001b[43m(\u001b[49m\u001b[43muser\u001b[49m\u001b[43m,\u001b[49m\u001b[43m \u001b[49m\u001b[38;5;28;43;01mTrue\u001b[39;49;00m\u001b[43m,\u001b[49m\u001b[43m \u001b[49m\u001b[43mexpandTo18Decimals\u001b[49m\u001b[43m(\u001b[49m\u001b[38;5;241;43m2\u001b[39;49m\u001b[43m)\u001b[49m\u001b[43m,\u001b[49m\u001b[43m \u001b[49m\u001b[43msqrtPriceLimitX96\u001b[49m\u001b[43m)\u001b[49m\n",
      "File \u001b[0;32m/Library/Frameworks/Python.framework/Versions/3.10/lib/python3.10/site-packages/uniswappy/cpt/exchg/UniswapV3Exchange.py:157\u001b[0m, in \u001b[0;36mUniswapV3Exchange.swap\u001b[0;34m(self, recipient, zeroForOne, amountSpecified, sqrtPriceLimitX96)\u001b[0m\n\u001b[1;32m    154\u001b[0m slot0Start \u001b[38;5;241m=\u001b[39m \u001b[38;5;28mself\u001b[39m\u001b[38;5;241m.\u001b[39mslot0\n\u001b[1;32m    156\u001b[0m \u001b[38;5;28;01mif\u001b[39;00m zeroForOne:\n\u001b[0;32m--> 157\u001b[0m     \u001b[38;5;28;01massert\u001b[39;00m (\n\u001b[1;32m    158\u001b[0m         sqrtPriceLimitX96 \u001b[38;5;241m<\u001b[39m slot0Start\u001b[38;5;241m.\u001b[39msqrtPriceX96\n\u001b[1;32m    159\u001b[0m         \u001b[38;5;129;01mand\u001b[39;00m sqrtPriceLimitX96 \u001b[38;5;241m>\u001b[39m TickMath\u001b[38;5;241m.\u001b[39mMIN_SQRT_RATIO\n\u001b[1;32m    160\u001b[0m     ), \u001b[38;5;124m\"\u001b[39m\u001b[38;5;124mSPL\u001b[39m\u001b[38;5;124m\"\u001b[39m\n\u001b[1;32m    161\u001b[0m \u001b[38;5;28;01melse\u001b[39;00m:\n\u001b[1;32m    162\u001b[0m     \u001b[38;5;28;01massert\u001b[39;00m (\n\u001b[1;32m    163\u001b[0m         sqrtPriceLimitX96 \u001b[38;5;241m>\u001b[39m slot0Start\u001b[38;5;241m.\u001b[39msqrtPriceX96\n\u001b[1;32m    164\u001b[0m         \u001b[38;5;129;01mand\u001b[39;00m sqrtPriceLimitX96 \u001b[38;5;241m<\u001b[39m TickMath\u001b[38;5;241m.\u001b[39mMAX_SQRT_RATIO\n\u001b[1;32m    165\u001b[0m     ), \u001b[38;5;124m\"\u001b[39m\u001b[38;5;124mSPL\u001b[39m\u001b[38;5;124m\"\u001b[39m\n",
      "\u001b[0;31mAssertionError\u001b[0m: SPL"
     ]
    }
   ],
   "source": [
    "def getSqrtPriceLimitX96(inputToken):\n",
    "    if inputToken == 'Token0':\n",
    "        return 4295128739 + 1\n",
    "    else:\n",
    "        return 4295128739 - 1\n",
    "\n",
    "\n",
    "sqrtPriceLimit = None\n",
    "sqrtPriceLimitX96 = (\n",
    "        sqrtPriceLimit\n",
    "        if sqrtPriceLimit != None\n",
    "        else getSqrtPriceLimitX96('Token0')\n",
    "    )\n",
    "\n",
    "lp.swap(user, True, expandTo18Decimals(2), sqrtPriceLimitX96)"
   ]
  }
 ],
 "metadata": {
  "kernelspec": {
   "display_name": "py3",
   "language": "python",
   "name": "py3"
  },
  "language_info": {
   "codemirror_mode": {
    "name": "ipython",
    "version": 3
   },
   "file_extension": ".py",
   "mimetype": "text/x-python",
   "name": "python",
   "nbconvert_exporter": "python",
   "pygments_lexer": "ipython3",
   "version": "3.10.0rc2"
  }
 },
 "nbformat": 4,
 "nbformat_minor": 5
}
