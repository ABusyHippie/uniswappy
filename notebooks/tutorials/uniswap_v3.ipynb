{
 "cells": [
  {
   "cell_type": "code",
   "execution_count": 1,
   "id": "d203f0ec-a448-4c0e-bdd4-8ef7131a3661",
   "metadata": {},
   "outputs": [],
   "source": [
    "import os\n",
    "import copy\n",
    "import numpy as np\n",
    "import pandas as pd\n",
    "import time\n",
    "import datetime\n",
    "import math"
   ]
  },
  {
   "cell_type": "code",
   "execution_count": 2,
   "id": "186f7163-b9f0-4be2-a25f-4e7a9033ac68",
   "metadata": {},
   "outputs": [],
   "source": [
    "from uniswappy import *"
   ]
  },
  {
   "cell_type": "code",
   "execution_count": 3,
   "id": "51385da5-6171-4c6e-9eb1-c1c30695b2e9",
   "metadata": {},
   "outputs": [],
   "source": [
    "def expandTo18Decimals(number):\n",
    "    # Converting to int because python cannot shl on a float\n",
    "    return int(number * 10**18)"
   ]
  },
  {
   "cell_type": "code",
   "execution_count": 4,
   "id": "c0a65d4f-98a2-4101-8a65-83e43adbc628",
   "metadata": {},
   "outputs": [],
   "source": [
    "usdc = ERC20(\"USDC\", \"0x111\")\n",
    "dai = ERC20(\"DAI\", \"0x09\")\n",
    "\n",
    "token_from_exchange = {}\n",
    "parent_lp = None\n",
    "name = \"ETH pool factory\"\n",
    "address = \"0x2\"\n",
    "\n",
    "factory_struct = FactoryData(token_from_exchange,  parent_lp, name, address)\n",
    "exchg_struct = UniswapExchangeData(tkn0 = usdc, tkn1 = dai, symbol=\"LP\", \n",
    "                                   address=\"0x011\", version = 'V3', \n",
    "                                   tick_spacing = 10, fee = 500)\n",
    "lp = UniswapV3Exchange(factory_struct, exchg_struct)   \n",
    "lp.factory.token_from_exchange[lp.name] = {usdc.token_name: usdc, dai.token_name: dai}"
   ]
  },
  {
   "cell_type": "code",
   "execution_count": 5,
   "id": "db0e845b-81ac-4704-85ec-0e36a07b6da8",
   "metadata": {},
   "outputs": [
    {
     "data": {
      "text/plain": [
       "(0, 5981737760509663)"
      ]
     },
     "execution_count": 5,
     "metadata": {},
     "output_type": "execute_result"
    }
   ],
   "source": [
    "p = 79228162514264337593543950336\n",
    "lwr_tick = -120\n",
    "upr_tick = 0\n",
    "L = expandTo18Decimals(1)\n",
    "user = 'test_user'\n",
    "\n",
    "lp.initialize(p)\n",
    "lp.mint(user, lwr_tick, upr_tick, L)"
   ]
  },
  {
   "cell_type": "code",
   "execution_count": 6,
   "id": "cfa8ddb6-2182-487d-ad41-c807b667ffcc",
   "metadata": {},
   "outputs": [
    {
     "data": {
      "text/plain": [
       "('test_user', 6020744641138736, -5981737760509662, 4295128740, 0, -887272)"
      ]
     },
     "execution_count": 6,
     "metadata": {},
     "output_type": "execute_result"
    }
   ],
   "source": [
    "def getSqrtPriceLimitX96(inputToken):\n",
    "    if inputToken == 'Token0':\n",
    "        return 4295128739 + 1\n",
    "    else:\n",
    "        return 4295128739 - 1\n",
    "\n",
    "\n",
    "sqrtPriceLimit = None\n",
    "sqrtPriceLimitX96 = (\n",
    "        sqrtPriceLimit\n",
    "        if sqrtPriceLimit != None\n",
    "        else getSqrtPriceLimitX96('Token0')\n",
    "    )\n",
    "\n",
    "lp.swap(user, True, expandTo18Decimals(2), sqrtPriceLimitX96)"
   ]
  }
 ],
 "metadata": {
  "kernelspec": {
   "display_name": "py3",
   "language": "python",
   "name": "py3"
  },
  "language_info": {
   "codemirror_mode": {
    "name": "ipython",
    "version": 3
   },
   "file_extension": ".py",
   "mimetype": "text/x-python",
   "name": "python",
   "nbconvert_exporter": "python",
   "pygments_lexer": "ipython3",
   "version": "3.10.0rc2"
  }
 },
 "nbformat": 4,
 "nbformat_minor": 5
}
