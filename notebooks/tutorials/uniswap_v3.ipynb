{
 "cells": [
  {
   "cell_type": "markdown",
   "id": "58a1be19-e923-4894-89ec-69d7113e85e0",
   "metadata": {},
   "source": [
    "## Uniswap V3 Example"
   ]
  },
  {
   "cell_type": "code",
   "execution_count": 1,
   "id": "186f7163-b9f0-4be2-a25f-4e7a9033ac68",
   "metadata": {},
   "outputs": [],
   "source": [
    "from uniswappy import *\n",
    "from uniswappy.utils.tools.v3 import UniV3Utils "
   ]
  },
  {
   "cell_type": "markdown",
   "id": "64bbfe25-a302-4bff-bd5d-bcb2865f56ed",
   "metadata": {},
   "source": [
    "### Using GWEI Precision "
   ]
  },
  {
   "cell_type": "code",
   "execution_count": 2,
   "id": "9c48dd37-14f9-448e-8fad-2fd7153057c4",
   "metadata": {},
   "outputs": [
    {
     "name": "stdout",
     "output_type": "stream",
     "text": [
      "Exchange TKN-DAI (LP)\n",
      "Reserves: TKN = 9996, DAI = 1000\n",
      "Liquidity: 3161 \n",
      "\n"
     ]
    }
   ],
   "source": [
    "user = 'user_intro'\n",
    "fee = UniV3Utils.FeeAmount.MEDIUM\n",
    "tick_spacing = UniV3Utils.TICK_SPACINGS[fee]\n",
    "lwr_tick = UniV3Utils.getMinTick(tick_spacing)\n",
    "upr_tick = UniV3Utils.getMaxTick(tick_spacing)\n",
    "init_price = UniV3Utils.encodePriceSqrt(1, 10)\n",
    "\n",
    "tkn = ERC20(\"TKN\", \"0x111\")\n",
    "dai = ERC20(\"DAI\", \"0x09\")\n",
    "\n",
    "exchg_data = UniswapExchangeData(tkn0 = tkn, tkn1 = dai, symbol=\"LP\", \n",
    "                                   address=\"0x011\", version = 'V3', \n",
    "                                   tick_spacing = tick_spacing, \n",
    "                                   precision = UniswapExchangeData.TYPE_GWEI,\n",
    "                                   fee = fee)\n",
    "\n",
    "factory = UniswapFactory(\"TKN pool factory\", \"0x2\")\n",
    "lp = factory.deploy(exchg_data)\n",
    "lp.initialize(init_price)\n",
    "lp.mint(user, lwr_tick, upr_tick, 3161)\n",
    "lp.summary()"
   ]
  },
  {
   "cell_type": "markdown",
   "id": "6518d3cf-00b1-4bcd-93ba-2c45a0626c62",
   "metadata": {},
   "source": [
    "### Using Decimal Precision "
   ]
  },
  {
   "cell_type": "code",
   "execution_count": 3,
   "id": "1d4241af-e188-478d-beb8-6d5226f0913e",
   "metadata": {},
   "outputs": [
    {
     "name": "stdout",
     "output_type": "stream",
     "text": [
      "Exchange TKN-DAI (LP)\n",
      "Reserves: TKN = 9995.959683792247, DAI = 999.5959683792247\n",
      "Liquidity: 3161.0 \n",
      "\n"
     ]
    }
   ],
   "source": [
    "user = 'user_intro'\n",
    "fee = UniV3Utils.FeeAmount.MEDIUM\n",
    "tick_spacing = UniV3Utils.TICK_SPACINGS[fee]\n",
    "lwr_tick = UniV3Utils.getMinTick(tick_spacing)\n",
    "upr_tick = UniV3Utils.getMaxTick(tick_spacing)\n",
    "init_price = UniV3Utils.encodePriceSqrt(1, 10)\n",
    "\n",
    "tkn = ERC20(\"TKN\", \"0x111\")\n",
    "dai = ERC20(\"DAI\", \"0x09\")\n",
    "\n",
    "exchg_data = UniswapExchangeData(tkn0 = tkn, tkn1 = dai, symbol=\"LP\", \n",
    "                                   address=\"0x011\", version = 'V3', \n",
    "                                   tick_spacing = tick_spacing, \n",
    "                                   fee = fee)\n",
    "\n",
    "factory = UniswapFactory(\"TKN pool factory\", \"0x2\")\n",
    "lp = factory.deploy(exchg_data)\n",
    "lp.initialize(init_price)\n",
    "out = lp.mint(user, lwr_tick, upr_tick, 3161)\n",
    "lp.summary()"
   ]
  },
  {
   "cell_type": "code",
   "execution_count": 4,
   "id": "03fddd6b-e88e-4a93-8a84-6888583a3ce6",
   "metadata": {},
   "outputs": [
    {
     "name": "stdout",
     "output_type": "stream",
     "text": [
      "Exchange TKN-DAI (LP)\n",
      "Reserves: TKN = 10995.959683792247, DAI = 908.9382011226554\n",
      "Liquidity: 3161.0 \n",
      "\n"
     ]
    }
   ],
   "source": [
    "out = lp.swapExact0For1(user, 1000, None)\n",
    "lp.summary()"
   ]
  },
  {
   "cell_type": "code",
   "execution_count": 5,
   "id": "7cd6b7fa-ac90-4a24-b93c-51f3503aa92a",
   "metadata": {},
   "outputs": [
    {
     "name": "stdout",
     "output_type": "stream",
     "text": [
      "Exchange TKN-DAI (LP)\n",
      "Reserves: TKN = 9632.933709511182, DAI = 1008.9382011226554\n",
      "Liquidity: 3161.0 \n",
      "\n"
     ]
    }
   ],
   "source": [
    "out = lp.swapExact1For0(user, 100, None)\n",
    "lp.summary()"
   ]
  }
 ],
 "metadata": {
  "kernelspec": {
   "display_name": "py3",
   "language": "python",
   "name": "py3"
  },
  "language_info": {
   "codemirror_mode": {
    "name": "ipython",
    "version": 3
   },
   "file_extension": ".py",
   "mimetype": "text/x-python",
   "name": "python",
   "nbconvert_exporter": "python",
   "pygments_lexer": "ipython3",
   "version": "3.10.0rc2"
  }
 },
 "nbformat": 4,
 "nbformat_minor": 5
}
