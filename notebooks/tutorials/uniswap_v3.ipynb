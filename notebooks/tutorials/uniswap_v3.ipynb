{
 "cells": [
  {
   "cell_type": "markdown",
   "id": "58a1be19-e923-4894-89ec-69d7113e85e0",
   "metadata": {},
   "source": [
    "## Uniswap V3 Example"
   ]
  },
  {
   "cell_type": "code",
   "execution_count": 1,
   "id": "186f7163-b9f0-4be2-a25f-4e7a9033ac68",
   "metadata": {},
   "outputs": [],
   "source": [
    "from uniswappy import *\n",
    "from uniswappy.utils.tools.v3 import UniV3Utils "
   ]
  },
  {
   "cell_type": "markdown",
   "id": "64bbfe25-a302-4bff-bd5d-bcb2865f56ed",
   "metadata": {},
   "source": [
    "### Using GWEI Precision "
   ]
  },
  {
   "cell_type": "code",
   "execution_count": 2,
   "id": "9c48dd37-14f9-448e-8fad-2fd7153057c4",
   "metadata": {},
   "outputs": [
    {
     "name": "stdout",
     "output_type": "stream",
     "text": [
      "Exchange TKN-DAI (LP)\n",
      "Reserves: TKN = 9996, DAI = 1000\n",
      "Liquidity: 3161 \n",
      "\n"
     ]
    }
   ],
   "source": [
    "user = 'user_intro'\n",
    "fee = UniV3Utils.FeeAmount.MEDIUM\n",
    "tick_spacing = UniV3Utils.TICK_SPACINGS[fee]\n",
    "lwr_tick = UniV3Utils.getMinTick(tick_spacing)\n",
    "upr_tick = UniV3Utils.getMaxTick(tick_spacing)\n",
    "init_price = UniV3Utils.encodePriceSqrt(1, 10)\n",
    "\n",
    "tkn = ERC20(\"TKN\", \"0x111\")\n",
    "dai = ERC20(\"DAI\", \"0x09\")\n",
    "\n",
    "exchg_data = UniswapExchangeData(tkn0 = tkn, tkn1 = dai, symbol=\"LP\", \n",
    "                                   address=\"0x011\", version = 'V3', \n",
    "                                   tick_spacing = tick_spacing, \n",
    "                                   precision = UniswapExchangeData.TYPE_GWEI,\n",
    "                                   fee = fee)\n",
    "\n",
    "factory = UniswapFactory(\"TKN pool factory\", \"0x2\")\n",
    "lp = factory.deploy(exchg_data)\n",
    "lp.initialize(init_price)\n",
    "lp.mint(user, lwr_tick, upr_tick, 3161)\n",
    "lp.summary()"
   ]
  },
  {
   "cell_type": "markdown",
   "id": "6518d3cf-00b1-4bcd-93ba-2c45a0626c62",
   "metadata": {},
   "source": [
    "### Using Decimal Precision "
   ]
  },
  {
   "cell_type": "markdown",
   "id": "008623b1-cc77-4882-b239-ea10ad383e30",
   "metadata": {},
   "source": [
    "#### Correct"
   ]
  },
  {
   "cell_type": "code",
   "execution_count": 3,
   "id": "1d4241af-e188-478d-beb8-6d5226f0913e",
   "metadata": {},
   "outputs": [
    {
     "name": "stdout",
     "output_type": "stream",
     "text": [
      "Exchange TKN-DAI (LP)\n",
      "Reserves: TKN = 9995.959683792247, DAI = 999.5959683792247\n",
      "Liquidity: 3161.0 \n",
      "\n",
      "Exchange TKN-DAI (LP)\n",
      "Reserves: TKN = 10095.959683792247, DAI = 989.7244274231241\n",
      "Liquidity: 3161.0 \n",
      "\n",
      "TKN added: 100.0\n",
      "DAI taken: -9.87154095610059\n"
     ]
    }
   ],
   "source": [
    "user = 'user_intro'\n",
    "fee = UniV3Utils.FeeAmount.MEDIUM\n",
    "tick_spacing = UniV3Utils.TICK_SPACINGS[fee]\n",
    "lwr_tick = UniV3Utils.getMinTick(tick_spacing)\n",
    "upr_tick = UniV3Utils.getMaxTick(tick_spacing)\n",
    "init_price = UniV3Utils.encodePriceSqrt(1, 10)\n",
    "\n",
    "tkn = ERC20(\"TKN\", \"0x111\")\n",
    "dai = ERC20(\"DAI\", \"0x09\")\n",
    "\n",
    "exchg_data = UniswapExchangeData(tkn0 = tkn, tkn1 = dai, symbol=\"LP\", \n",
    "                                   address=\"0x011\", version = 'V3', \n",
    "                                   tick_spacing = tick_spacing, \n",
    "                                   fee = fee)\n",
    "\n",
    "factory = UniswapFactory(\"TKN pool factory\", \"0x2\")\n",
    "lp = factory.deploy(exchg_data)\n",
    "lp.initialize(init_price)\n",
    "out = lp.mint(user, lwr_tick, upr_tick, 3161)\n",
    "lp.summary()\n",
    "\n",
    "out = lp.swapExact0For1(user, 100, None)\n",
    "lp.summary()\n",
    "\n",
    "print(f'{tkn.token_name} added: {lp.gwei2dec(out[1])}')\n",
    "print(f'{dai.token_name} taken: {lp.gwei2dec(out[2])}')"
   ]
  },
  {
   "cell_type": "markdown",
   "id": "3ca92278-64f2-4ed2-aabb-6cf5102193ed",
   "metadata": {},
   "source": [
    "#### Correct"
   ]
  },
  {
   "cell_type": "code",
   "execution_count": 4,
   "id": "71b549f9-e878-46b4-9782-0bc78c32443f",
   "metadata": {},
   "outputs": [
    {
     "name": "stdout",
     "output_type": "stream",
     "text": [
      "Exchange TKN-DAI (LP)\n",
      "Reserves: TKN = 9995.959683792247, DAI = 999.5959683792247\n",
      "Liquidity: 3161.0 \n",
      "\n",
      "Exchange TKN-DAI (LP)\n",
      "Reserves: TKN = 11110.464211335586, DAI = 899.5959683792247\n",
      "Liquidity: 3161.0 \n",
      "\n",
      "TKN added: 1114.5045275433383\n",
      "DAI taken: -100.0\n"
     ]
    }
   ],
   "source": [
    "user = 'user_intro'\n",
    "fee = UniV3Utils.FeeAmount.MEDIUM\n",
    "tick_spacing = UniV3Utils.TICK_SPACINGS[fee]\n",
    "lwr_tick = UniV3Utils.getMinTick(tick_spacing)\n",
    "upr_tick = UniV3Utils.getMaxTick(tick_spacing)\n",
    "init_price = UniV3Utils.encodePriceSqrt(1, 10)\n",
    "\n",
    "tkn = ERC20(\"TKN\", \"0x111\")\n",
    "dai = ERC20(\"DAI\", \"0x09\")\n",
    "\n",
    "exchg_data = UniswapExchangeData(tkn0 = tkn, tkn1 = dai, symbol=\"LP\", \n",
    "                                   address=\"0x011\", version = 'V3', \n",
    "                                   tick_spacing = tick_spacing, \n",
    "                                   fee = fee)\n",
    "\n",
    "factory = UniswapFactory(\"TKN pool factory\", \"0x2\")\n",
    "lp = factory.deploy(exchg_data)\n",
    "lp.initialize(init_price)\n",
    "out = lp.mint(user, lwr_tick, upr_tick, 3161)\n",
    "lp.summary()\n",
    "\n",
    "out = lp.swap0ForExact1(user, 100, None)\n",
    "lp.summary()\n",
    "\n",
    "print(f'{tkn.token_name} added: {lp.gwei2dec(out[1])}')\n",
    "print(f'{dai.token_name} taken: {lp.gwei2dec(out[2])}')"
   ]
  },
  {
   "cell_type": "markdown",
   "id": "18655a1a-3025-4bba-9a00-2b8afd554eda",
   "metadata": {},
   "source": [
    "#### Wrong"
   ]
  },
  {
   "cell_type": "code",
   "execution_count": 8,
   "id": "d1c28482-9f15-4d6b-b5c4-8e70f9dcb7b7",
   "metadata": {},
   "outputs": [
    {
     "name": "stdout",
     "output_type": "stream",
     "text": [
      "Exchange TKN-DAI (LP)\n",
      "Reserves: TKN = 9995.959683792247, DAI = 999.5959683792247\n",
      "Liquidity: 3161.0 \n",
      "\n",
      "Exchange TKN-DAI (LP)\n",
      "Reserves: TKN = 9986.088142836146, DAI = 1099.5959683792248\n",
      "Liquidity: 3161.0 \n",
      "\n",
      "TKN taken: -9.87154095610059\n",
      "DAI added: 100.0\n"
     ]
    }
   ],
   "source": [
    "user = 'user_intro'\n",
    "fee = UniV3Utils.FeeAmount.MEDIUM\n",
    "tick_spacing = UniV3Utils.TICK_SPACINGS[fee]\n",
    "lwr_tick = UniV3Utils.getMinTick(tick_spacing)\n",
    "upr_tick = UniV3Utils.getMaxTick(tick_spacing)\n",
    "init_price = UniV3Utils.encodePriceSqrt(1, 10)\n",
    "\n",
    "tkn = ERC20(\"TKN\", \"0x111\")\n",
    "dai = ERC20(\"DAI\", \"0x09\")\n",
    "\n",
    "exchg_data = UniswapExchangeData(tkn0 = tkn, tkn1 = dai, symbol=\"LP\", \n",
    "                                   address=\"0x011\", version = 'V3', \n",
    "                                   tick_spacing = tick_spacing, \n",
    "                                   fee = fee)\n",
    "\n",
    "factory = UniswapFactory(\"TKN pool factory\", \"0x2\")\n",
    "lp = factory.deploy(exchg_data)\n",
    "lp.initialize(init_price)\n",
    "out = lp.mint(user, lwr_tick, upr_tick, 3161)\n",
    "lp.summary()\n",
    "\n",
    "out = lp.swapExact1For0(user, 100, None)\n",
    "lp.summary()\n",
    "\n",
    "print(f'{tkn.token_name} taken: {lp.gwei2dec(out[1])}')\n",
    "print(f'{dai.token_name} added: {lp.gwei2dec(out[2])}')"
   ]
  },
  {
   "cell_type": "code",
   "execution_count": 9,
   "id": "94590b38-1639-43b6-96c0-1490733dc55b",
   "metadata": {},
   "outputs": [
    {
     "name": "stdout",
     "output_type": "stream",
     "text": [
      "Exchange TKN-DAI (LP)\n",
      "Reserves: TKN = 9995.959683792247, DAI = 999.5959683792247\n",
      "Liquidity: 3161.0 \n",
      "\n",
      "Exchange TKN-DAI (LP)\n",
      "Reserves: TKN = 9895.959683792247, DAI = 2114.100495922563\n",
      "Liquidity: 3161.0 \n",
      "\n",
      "TKN taken: -100.0\n",
      "DAI added: 1114.5045275433383\n"
     ]
    }
   ],
   "source": [
    "user = 'user_intro'\n",
    "fee = UniV3Utils.FeeAmount.MEDIUM\n",
    "tick_spacing = UniV3Utils.TICK_SPACINGS[fee]\n",
    "lwr_tick = UniV3Utils.getMinTick(tick_spacing)\n",
    "upr_tick = UniV3Utils.getMaxTick(tick_spacing)\n",
    "init_price = UniV3Utils.encodePriceSqrt(1, 10)\n",
    "\n",
    "tkn = ERC20(\"TKN\", \"0x111\")\n",
    "dai = ERC20(\"DAI\", \"0x09\")\n",
    "\n",
    "exchg_data = UniswapExchangeData(tkn0 = tkn, tkn1 = dai, symbol=\"LP\", \n",
    "                                   address=\"0x011\", version = 'V3', \n",
    "                                   tick_spacing = tick_spacing, \n",
    "                                   fee = fee)\n",
    "\n",
    "factory = UniswapFactory(\"TKN pool factory\", \"0x2\")\n",
    "lp = factory.deploy(exchg_data)\n",
    "lp.initialize(init_price)\n",
    "out = lp.mint(user, lwr_tick, upr_tick, 3161)\n",
    "lp.summary()\n",
    "\n",
    "out = lp.swap1ForExact0(user, 100, None)\n",
    "lp.summary()\n",
    "\n",
    "print(f'{tkn.token_name} taken: {lp.gwei2dec(out[1])}')\n",
    "print(f'{dai.token_name} added: {lp.gwei2dec(out[2])}')"
   ]
  }
 ],
 "metadata": {
  "kernelspec": {
   "display_name": "py3",
   "language": "python",
   "name": "py3"
  },
  "language_info": {
   "codemirror_mode": {
    "name": "ipython",
    "version": 3
   },
   "file_extension": ".py",
   "mimetype": "text/x-python",
   "name": "python",
   "nbconvert_exporter": "python",
   "pygments_lexer": "ipython3",
   "version": "3.10.0rc2"
  }
 },
 "nbformat": 4,
 "nbformat_minor": 5
}
